{
 "cells": [
  {
   "cell_type": "code",
   "execution_count": 1,
   "id": "5144396f-d38a-448e-9d2b-229fd3bbc0b0",
   "metadata": {
    "execution": {
     "iopub.execute_input": "2025-03-19T09:57:16.191495Z",
     "iopub.status.busy": "2025-03-19T09:57:16.191293Z",
     "iopub.status.idle": "2025-03-19T09:57:24.540850Z",
     "shell.execute_reply": "2025-03-19T09:57:24.540388Z",
     "shell.execute_reply.started": "2025-03-19T09:57:16.191478Z"
    }
   },
   "outputs": [
    {
     "name": "stderr",
     "output_type": "stream",
     "text": [
      "2025-03-19 17:57:18.113393: I tensorflow/core/util/port.cc:153] oneDNN custom operations are on. You may see slightly different numerical results due to floating-point round-off errors from different computation orders. To turn them off, set the environment variable `TF_ENABLE_ONEDNN_OPTS=0`.\n"
     ]
    },
    {
     "data": {
      "application/vnd.jupyter.widget-view+json": {
       "model_id": "016ed3e2c5dc48bbb385f1135972da78",
       "version_major": 2,
       "version_minor": 0
      },
      "text/plain": [
       "Loading checkpoint shards:   0%|          | 0/2 [00:00<?, ?it/s]"
      ]
     },
     "metadata": {},
     "output_type": "display_data"
    },
    {
     "name": "stderr",
     "output_type": "stream",
     "text": [
      "Using a slow image processor as `use_fast` is unset and a slow processor was saved with this model. `use_fast=True` will be the default behavior in v4.48, even if the model was saved with a slow processor. This will result in minor differences in outputs. You'll still be able to use a slow processor with `use_fast=False`.\n",
      "Device set to use cpu\n"
     ]
    }
   ],
   "source": [
    "from transformers import pipeline\n",
    "import torch\n",
    "import pprint\n",
    "\n",
    "pipe = pipeline(\n",
    "    model=\"google/gemma-3-4b-it\",\n",
    "    device=\"cpu\",\n",
    "    torch_dtype=torch.bfloat16\n",
    ")"
   ]
  },
  {
   "cell_type": "code",
   "execution_count": 2,
   "id": "f169c334-3f7b-4824-aa37-761553b9ebc5",
   "metadata": {
    "execution": {
     "iopub.execute_input": "2025-03-19T09:57:24.544467Z",
     "iopub.status.busy": "2025-03-19T09:57:24.544187Z",
     "iopub.status.idle": "2025-03-19T09:58:29.397968Z",
     "shell.execute_reply": "2025-03-19T09:58:29.397582Z",
     "shell.execute_reply.started": "2025-03-19T09:57:24.544455Z"
    }
   },
   "outputs": [
    {
     "name": "stdout",
     "output_type": "stream",
     "text": [
      "[{'role': 'system', 'content': [{'type': 'text', 'text': '您是一位非常睿智的助理。'}]},\n",
      " {'role': 'user',\n",
      "  'content': [{'type': 'image',\n",
      "               'url': 'https://huggingface.co/datasets/huggingface/documentation-images/resolve/main/p-blog/candy.JPG'},\n",
      "              {'type': 'text', 'text': '請幫我介紹珍珠奶茶'}]},\n",
      " {'role': 'assistant',\n",
      "  'content': '好的，很樂意為您介紹珍珠奶茶！\\n'\n",
      "             '\\n'\n",
      "             '珍珠奶茶，又稱波霸奶茶，是台灣最具代表性的飲品之一，也是全球知名的特色飲品。它融合了台灣茶文化和日式奶茶的元素，發展出獨特的風味。\\n'\n",
      "             '\\n'\n",
      "             '以下是關於珍珠奶茶的一些重要資訊：\\n'\n",
      "             '\\n'\n",
      "             '**基本組成：**\\n'\n",
      "             '\\n'\n",
      "             '*   **茶底：** 通常使用台灣烏龍茶為基底，但也有使用其他茶葉，如紅茶、綠茶等。\\n'\n",
      "             '*   **奶：** 鮮奶或奶精，提供奶香和濃郁口感。\\n'\n",
      "             '*   **糖：** 調整甜度，通常使用砂糖或糖漿。\\n'\n",
      "             '*   **珍珠 (波霸)：** '\n",
      "             '這是珍珠奶茶最特別的特色！珍珠是由木薯澱粉製成，經過發酵、蒸煮、炸製等工藝，口感Q彈，入口即化'}]\n",
      "CPU times: user 6min 19s, sys: 1.11 s, total: 6min 20s\n",
      "Wall time: 1min 4s\n"
     ]
    }
   ],
   "source": [
    "%%time\n",
    "messages = [\n",
    "    {\n",
    "        \"role\": \"system\",\n",
    "        \"content\": [{\"type\": \"text\", \"text\": \"您是一位非常睿智的助理。\"}]\n",
    "    },\n",
    "    {\n",
    "        \"role\": \"user\",\n",
    "        \"content\": [\n",
    "            {\"type\": \"image\", \"url\": \"https://huggingface.co/datasets/huggingface/documentation-images/resolve/main/p-blog/candy.JPG\"},\n",
    "            # {\"type\": \"text\", \"text\": \"What animal is on the candy?\"}\n",
    "            {\"type\": \"text\", \"text\": \"請幫我介紹珍珠奶茶\"}\n",
    "        ]\n",
    "    }\n",
    "]\n",
    "\n",
    "output = pipe(text=messages, max_new_tokens=200)\n",
    "pprint.pp(output[0]['generated_text'])"
   ]
  }
 ],
 "metadata": {
  "kernelspec": {
   "display_name": "Python 3 (ipykernel)",
   "language": "python",
   "name": "python3"
  },
  "language_info": {
   "codemirror_mode": {
    "name": "ipython",
    "version": 3
   },
   "file_extension": ".py",
   "mimetype": "text/x-python",
   "name": "python",
   "nbconvert_exporter": "python",
   "pygments_lexer": "ipython3",
   "version": "3.12.4"
  },
  "widgets": {
   "application/vnd.jupyter.widget-state+json": {
    "state": {
     "016ed3e2c5dc48bbb385f1135972da78": {
      "model_module": "@jupyter-widgets/controls",
      "model_module_version": "2.0.0",
      "model_name": "HBoxModel",
      "state": {
       "children": [
        "IPY_MODEL_459ec83c2f8040e8bb9fb734b2c902c0",
        "IPY_MODEL_61035973d57a46d09b227deaad52f0b2",
        "IPY_MODEL_929e4e9c70b04723849a77f288e567ee"
       ],
       "layout": "IPY_MODEL_d921e7aa33ef4ac6b3a304caaf50e626"
      }
     },
     "063ce08035634f089ed1d772def67635": {
      "model_module": "@jupyter-widgets/controls",
      "model_module_version": "2.0.0",
      "model_name": "HTMLStyleModel",
      "state": {
       "description_width": "",
       "font_size": null,
       "text_color": null
      }
     },
     "459ec83c2f8040e8bb9fb734b2c902c0": {
      "model_module": "@jupyter-widgets/controls",
      "model_module_version": "2.0.0",
      "model_name": "HTMLModel",
      "state": {
       "layout": "IPY_MODEL_4b5802a2d24b484788c10dca2e7eb883",
       "style": "IPY_MODEL_063ce08035634f089ed1d772def67635",
       "value": "Loading checkpoint shards: 100%"
      }
     },
     "4b5802a2d24b484788c10dca2e7eb883": {
      "model_module": "@jupyter-widgets/base",
      "model_module_version": "2.0.0",
      "model_name": "LayoutModel",
      "state": {}
     },
     "61035973d57a46d09b227deaad52f0b2": {
      "model_module": "@jupyter-widgets/controls",
      "model_module_version": "2.0.0",
      "model_name": "FloatProgressModel",
      "state": {
       "bar_style": "success",
       "layout": "IPY_MODEL_e840974a2deb4fec9c3b29f2144c1c78",
       "max": 2,
       "style": "IPY_MODEL_620a7f6ec2714cb8ac7392ebdf9114dc",
       "value": 2
      }
     },
     "620a7f6ec2714cb8ac7392ebdf9114dc": {
      "model_module": "@jupyter-widgets/controls",
      "model_module_version": "2.0.0",
      "model_name": "ProgressStyleModel",
      "state": {
       "description_width": ""
      }
     },
     "91d1feaccd2b4035ae525f5a9bba44ba": {
      "model_module": "@jupyter-widgets/controls",
      "model_module_version": "2.0.0",
      "model_name": "HTMLStyleModel",
      "state": {
       "description_width": "",
       "font_size": null,
       "text_color": null
      }
     },
     "929e4e9c70b04723849a77f288e567ee": {
      "model_module": "@jupyter-widgets/controls",
      "model_module_version": "2.0.0",
      "model_name": "HTMLModel",
      "state": {
       "layout": "IPY_MODEL_f2556fe89cd94dec94e8d742a50d79d2",
       "style": "IPY_MODEL_91d1feaccd2b4035ae525f5a9bba44ba",
       "value": " 2/2 [00:00&lt;00:00,  3.73it/s]"
      }
     },
     "d921e7aa33ef4ac6b3a304caaf50e626": {
      "model_module": "@jupyter-widgets/base",
      "model_module_version": "2.0.0",
      "model_name": "LayoutModel",
      "state": {}
     },
     "e840974a2deb4fec9c3b29f2144c1c78": {
      "model_module": "@jupyter-widgets/base",
      "model_module_version": "2.0.0",
      "model_name": "LayoutModel",
      "state": {}
     },
     "f2556fe89cd94dec94e8d742a50d79d2": {
      "model_module": "@jupyter-widgets/base",
      "model_module_version": "2.0.0",
      "model_name": "LayoutModel",
      "state": {}
     }
    },
    "version_major": 2,
    "version_minor": 0
   }
  }
 },
 "nbformat": 4,
 "nbformat_minor": 5
}
