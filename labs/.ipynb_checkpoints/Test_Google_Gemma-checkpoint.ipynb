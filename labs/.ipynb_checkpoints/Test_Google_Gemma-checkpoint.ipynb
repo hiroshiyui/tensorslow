{
 "cells": [
  {
   "cell_type": "code",
   "execution_count": 6,
   "id": "ac767215-1256-49e5-a81b-ab92ae54a6f9",
   "metadata": {
    "execution": {
     "iopub.execute_input": "2025-02-27T10:41:26.492711Z",
     "iopub.status.busy": "2025-02-27T10:41:26.492432Z",
     "iopub.status.idle": "2025-02-27T10:41:26.495453Z",
     "shell.execute_reply": "2025-02-27T10:41:26.494983Z",
     "shell.execute_reply.started": "2025-02-27T10:41:26.492697Z"
    }
   },
   "outputs": [],
   "source": [
    "import keras\n",
    "import keras_hub\n",
    "import keras_nlp\n",
    "import numpy as np\n",
    "import os\n",
    "\n",
    "os.environ[\"KERAS_BACKEND\"] = \"tensorflow\""
   ]
  },
  {
   "cell_type": "code",
   "execution_count": 7,
   "id": "17e7f423-1cd6-4252-8cb5-eeb80f9cb8a6",
   "metadata": {
    "execution": {
     "iopub.execute_input": "2025-02-27T10:41:32.243427Z",
     "iopub.status.busy": "2025-02-27T10:41:32.243012Z",
     "iopub.status.idle": "2025-02-27T10:42:17.493101Z",
     "shell.execute_reply": "2025-02-27T10:42:17.492677Z",
     "shell.execute_reply.started": "2025-02-27T10:41:32.243408Z"
    }
   },
   "outputs": [
    {
     "data": {
      "text/plain": [
       "['Keras is a deep learning library that provides a high-level API for building and training deep learning models. It offers a wide range of features',\n",
       " \"I want to say thank you for your time and consideration.\\n\\n**Response:**\\n\\nYou're very welcome! I appreciate your feedback and time\"]"
      ]
     },
     "execution_count": 7,
     "metadata": {},
     "output_type": "execute_result"
    }
   ],
   "source": [
    "gemma_lm = keras_hub.models.GemmaCausalLM.from_preset(\"gemma_1.1_instruct_2b_en\")\n",
    "gemma_lm.generate([\"Keras is a\", \"I want to say\"], max_length=30)"
   ]
  },
  {
   "cell_type": "code",
   "execution_count": null,
   "id": "e4643572-f6a4-4aa5-a601-25a80d2e69b1",
   "metadata": {},
   "outputs": [],
   "source": []
  }
 ],
 "metadata": {
  "kernelspec": {
   "display_name": "Python 3 (ipykernel)",
   "language": "python",
   "name": "python3"
  },
  "language_info": {
   "codemirror_mode": {
    "name": "ipython",
    "version": 3
   },
   "file_extension": ".py",
   "mimetype": "text/x-python",
   "name": "python",
   "nbconvert_exporter": "python",
   "pygments_lexer": "ipython3",
   "version": "3.12.4"
  },
  "widgets": {
   "application/vnd.jupyter.widget-state+json": {
    "state": {},
    "version_major": 2,
    "version_minor": 0
   }
  }
 },
 "nbformat": 4,
 "nbformat_minor": 5
}
