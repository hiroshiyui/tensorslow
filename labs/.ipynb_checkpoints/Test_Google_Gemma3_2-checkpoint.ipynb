{
 "cells": [
  {
   "cell_type": "code",
   "execution_count": null,
   "id": "5144396f-d38a-448e-9d2b-229fd3bbc0b0",
   "metadata": {},
   "outputs": [],
   "source": [
    "from transformers import pipeline\n",
    "import torch\n",
    "import pprint\n",
    "\n",
    "pipe = pipeline(\n",
    "    model=\"google/gemma-3-4b-it\",\n",
    "    device=\"cpu\",\n",
    "    torch_dtype=torch.bfloat16\n",
    ")"
   ]
  },
  {
   "cell_type": "code",
   "execution_count": null,
   "id": "f169c334-3f7b-4824-aa37-761553b9ebc5",
   "metadata": {},
   "outputs": [],
   "source": [
    "%%time\n",
    "messages = [\n",
    "    {\n",
    "        \"role\": \"system\",\n",
    "        \"content\": [{\"type\": \"text\", \"text\": \"您是一位非常睿智的助理。\"}]\n",
    "    },\n",
    "    {\n",
    "        \"role\": \"user\",\n",
    "        \"content\": [\n",
    "            {\"type\": \"image\", \"url\": \"https://huggingface.co/datasets/huggingface/documentation-images/resolve/main/p-blog/candy.JPG\"},\n",
    "            # {\"type\": \"text\", \"text\": \"What animal is on the candy?\"}\n",
    "            {\"type\": \"text\", \"text\": \"請幫我介紹珍珠奶茶\"}\n",
    "        ]\n",
    "    }\n",
    "]\n",
    "\n",
    "output = pipe(text=messages, max_new_tokens=200)\n",
    "pprint.pp(output[0]['generated_text'])"
   ]
  }
 ],
 "metadata": {
  "kernelspec": {
   "display_name": "Python 3 (ipykernel)",
   "language": "python",
   "name": "python3"
  },
  "language_info": {
   "codemirror_mode": {
    "name": "ipython",
    "version": 3
   },
   "file_extension": ".py",
   "mimetype": "text/x-python",
   "name": "python",
   "nbconvert_exporter": "python",
   "pygments_lexer": "ipython3",
   "version": "3.12.4"
  },
  "widgets": {
   "application/vnd.jupyter.widget-state+json": {
    "state": {
     "1c6a71272a8845678613a4c2dc338a7b": {
      "model_module": "@jupyter-widgets/controls",
      "model_module_version": "2.0.0",
      "model_name": "HTMLStyleModel",
      "state": {
       "description_width": "",
       "font_size": null,
       "text_color": null
      }
     },
     "25da4bd3621a4d99b17a9c0c04d82e0f": {
      "model_module": "@jupyter-widgets/controls",
      "model_module_version": "2.0.0",
      "model_name": "HTMLModel",
      "state": {
       "layout": "IPY_MODEL_ed298956fed64333b517e1696c8fe86f",
       "style": "IPY_MODEL_1c6a71272a8845678613a4c2dc338a7b",
       "value": " 2/2 [00:00&lt;00:00,  3.59it/s]"
      }
     },
     "363d5b50329b444b8de724e52e14f9ff": {
      "model_module": "@jupyter-widgets/base",
      "model_module_version": "2.0.0",
      "model_name": "LayoutModel",
      "state": {}
     },
     "40bc9152b7ed4c81bca9bfeb17b044e8": {
      "model_module": "@jupyter-widgets/controls",
      "model_module_version": "2.0.0",
      "model_name": "HTMLStyleModel",
      "state": {
       "description_width": "",
       "font_size": null,
       "text_color": null
      }
     },
     "637ba194049b4e4587a69ce2948ed817": {
      "model_module": "@jupyter-widgets/controls",
      "model_module_version": "2.0.0",
      "model_name": "HTMLModel",
      "state": {
       "layout": "IPY_MODEL_e52bc9d5ca5d4274a6163c3c3ff5ba31",
       "style": "IPY_MODEL_40bc9152b7ed4c81bca9bfeb17b044e8",
       "value": "Loading checkpoint shards: 100%"
      }
     },
     "85b6b616d85c408ca858c9cc23c82267": {
      "model_module": "@jupyter-widgets/controls",
      "model_module_version": "2.0.0",
      "model_name": "FloatProgressModel",
      "state": {
       "bar_style": "success",
       "layout": "IPY_MODEL_a36b4cb7e4a84939b8f45ca23c43a13c",
       "max": 2,
       "style": "IPY_MODEL_f6580f2d761f45c6998fadf4f5c117b0",
       "value": 2
      }
     },
     "a36b4cb7e4a84939b8f45ca23c43a13c": {
      "model_module": "@jupyter-widgets/base",
      "model_module_version": "2.0.0",
      "model_name": "LayoutModel",
      "state": {}
     },
     "e52bc9d5ca5d4274a6163c3c3ff5ba31": {
      "model_module": "@jupyter-widgets/base",
      "model_module_version": "2.0.0",
      "model_name": "LayoutModel",
      "state": {}
     },
     "ed298956fed64333b517e1696c8fe86f": {
      "model_module": "@jupyter-widgets/base",
      "model_module_version": "2.0.0",
      "model_name": "LayoutModel",
      "state": {}
     },
     "ee95af8ed7c9467295eba41eb42bc32a": {
      "model_module": "@jupyter-widgets/controls",
      "model_module_version": "2.0.0",
      "model_name": "HBoxModel",
      "state": {
       "children": [
        "IPY_MODEL_637ba194049b4e4587a69ce2948ed817",
        "IPY_MODEL_85b6b616d85c408ca858c9cc23c82267",
        "IPY_MODEL_25da4bd3621a4d99b17a9c0c04d82e0f"
       ],
       "layout": "IPY_MODEL_363d5b50329b444b8de724e52e14f9ff"
      }
     },
     "f6580f2d761f45c6998fadf4f5c117b0": {
      "model_module": "@jupyter-widgets/controls",
      "model_module_version": "2.0.0",
      "model_name": "ProgressStyleModel",
      "state": {
       "description_width": ""
      }
     }
    },
    "version_major": 2,
    "version_minor": 0
   }
  }
 },
 "nbformat": 4,
 "nbformat_minor": 5
}
