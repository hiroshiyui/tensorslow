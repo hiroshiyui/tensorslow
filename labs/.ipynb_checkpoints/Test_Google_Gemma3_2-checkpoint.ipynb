{
 "cells": [
  {
   "cell_type": "code",
   "execution_count": 8,
   "id": "2d434349-d3b4-4e34-90b7-2cadb381b11f",
   "metadata": {
    "execution": {
     "iopub.execute_input": "2025-03-13T04:43:36.270290Z",
     "iopub.status.busy": "2025-03-13T04:43:36.270019Z",
     "iopub.status.idle": "2025-03-13T04:44:48.838312Z",
     "shell.execute_reply": "2025-03-13T04:44:48.837961Z",
     "shell.execute_reply.started": "2025-03-13T04:43:36.270271Z"
    }
   },
   "outputs": [
    {
     "data": {
      "application/vnd.jupyter.widget-view+json": {
       "model_id": "1024102710c34a1c8a25a799fab4bf36",
       "version_major": 2,
       "version_minor": 0
      },
      "text/plain": [
       "Loading checkpoint shards:   0%|          | 0/2 [00:00<?, ?it/s]"
      ]
     },
     "metadata": {},
     "output_type": "display_data"
    },
    {
     "name": "stderr",
     "output_type": "stream",
     "text": [
      "Device set to use cpu\n"
     ]
    },
    {
     "name": "stdout",
     "output_type": "stream",
     "text": [
      "[{'role': 'system', 'content': [{'type': 'text', 'text': '您是一位非常睿智的助理。'}]},\n",
      " {'role': 'user',\n",
      "  'content': [{'type': 'image',\n",
      "               'url': 'https://huggingface.co/datasets/huggingface/documentation-images/resolve/main/p-blog/candy.JPG'},\n",
      "              {'type': 'text', 'text': '請幫我介紹珍珠奶茶'}]},\n",
      " {'role': 'assistant',\n",
      "  'content': '好的，很樂意為您介紹珍珠奶茶！\\n'\n",
      "             '\\n'\n",
      "             '珍珠奶茶，又稱波霸奶茶，是台灣最具代表性的飲品之一，也是全球知名的特色飲品。它融合了台灣茶文化和日式奶茶的元素，發展出獨特的風味。\\n'\n",
      "             '\\n'\n",
      "             '以下是關於珍珠奶茶的一些重要資訊：\\n'\n",
      "             '\\n'\n",
      "             '**基本組成：**\\n'\n",
      "             '\\n'\n",
      "             '*   **茶底：** 通常使用台灣烏龍茶為基底，但也有使用其他茶葉，如紅茶、綠茶等。\\n'\n",
      "             '*   **奶：** 鮮奶或奶精，提供奶香和濃郁口感。\\n'\n",
      "             '*   **糖：** 調整甜度，通常使用砂糖或糖漿。\\n'\n",
      "             '*   **珍珠 (波霸)：** '\n",
      "             '這是珍珠奶茶最特別的特色！珍珠是由木薯澱粉製成，經過發酵、蒸煮、炸製等工藝，口感Q彈，入口即化'}]\n"
     ]
    }
   ],
   "source": [
    "from transformers import pipeline\n",
    "import torch\n",
    "import pprint\n",
    "\n",
    "pipe = pipeline(\n",
    "    model=\"google/gemma-3-4b-it\",\n",
    "    device=\"cpu\",\n",
    "    torch_dtype=torch.bfloat16\n",
    ")\n",
    "\n",
    "messages = [\n",
    "    {\n",
    "        \"role\": \"system\",\n",
    "        \"content\": [{\"type\": \"text\", \"text\": \"您是一位非常睿智的助理。\"}]\n",
    "    },\n",
    "    {\n",
    "        \"role\": \"user\",\n",
    "        \"content\": [\n",
    "            {\"type\": \"image\", \"url\": \"https://huggingface.co/datasets/huggingface/documentation-images/resolve/main/p-blog/candy.JPG\"},\n",
    "            # {\"type\": \"text\", \"text\": \"What animal is on the candy?\"}\n",
    "            {\"type\": \"text\", \"text\": \"請幫我介紹珍珠奶茶\"}\n",
    "        ]\n",
    "    }\n",
    "]\n",
    "\n",
    "output = pipe(text=messages, max_new_tokens=200)\n",
    "pprint.pp(output[0]['generated_text'])"
   ]
  }
 ],
 "metadata": {
  "kernelspec": {
   "display_name": "Python 3 (ipykernel)",
   "language": "python",
   "name": "python3"
  },
  "language_info": {
   "codemirror_mode": {
    "name": "ipython",
    "version": 3
   },
   "file_extension": ".py",
   "mimetype": "text/x-python",
   "name": "python",
   "nbconvert_exporter": "python",
   "pygments_lexer": "ipython3",
   "version": "3.12.4"
  },
  "widgets": {
   "application/vnd.jupyter.widget-state+json": {
    "state": {
     "0259da85bf9e418390c52c5c4db0aa88": {
      "model_module": "@jupyter-widgets/base",
      "model_module_version": "2.0.0",
      "model_name": "LayoutModel",
      "state": {}
     },
     "061dd45e6c0644bfb25b17137e1d5c22": {
      "model_module": "@jupyter-widgets/base",
      "model_module_version": "2.0.0",
      "model_name": "LayoutModel",
      "state": {}
     },
     "082f67379f42408abb9fcc470dd482f0": {
      "model_module": "@jupyter-widgets/controls",
      "model_module_version": "2.0.0",
      "model_name": "FloatProgressModel",
      "state": {
       "bar_style": "success",
       "layout": "IPY_MODEL_3981bf7e82594ee080fe1abf0c99d43d",
       "max": 2,
       "style": "IPY_MODEL_ef46917073d747a698937a497aa64d13",
       "value": 2
      }
     },
     "1024102710c34a1c8a25a799fab4bf36": {
      "model_module": "@jupyter-widgets/controls",
      "model_module_version": "2.0.0",
      "model_name": "HBoxModel",
      "state": {
       "children": [
        "IPY_MODEL_b8bf43ecfa8b437cba4128a289aa5e77",
        "IPY_MODEL_7832c42872794337b432e62873434168",
        "IPY_MODEL_5c086665d42c4edca3c1b5b51458ed9c"
       ],
       "layout": "IPY_MODEL_b90b370981c04716876d4836d81c793d"
      }
     },
     "1e993468d2214e3a88b8bdd55021c992": {
      "model_module": "@jupyter-widgets/controls",
      "model_module_version": "2.0.0",
      "model_name": "HTMLModel",
      "state": {
       "layout": "IPY_MODEL_b65379b68432417b902f0b5b3679f3a9",
       "style": "IPY_MODEL_585b5fae8e884673807d2f1a7acb9bd1",
       "value": "Loading checkpoint shards: 100%"
      }
     },
     "36e45e2d844a4aeaa0e728897fc92c35": {
      "model_module": "@jupyter-widgets/controls",
      "model_module_version": "2.0.0",
      "model_name": "HBoxModel",
      "state": {
       "children": [
        "IPY_MODEL_1e993468d2214e3a88b8bdd55021c992",
        "IPY_MODEL_082f67379f42408abb9fcc470dd482f0",
        "IPY_MODEL_92134500bc12460080b60157b7e43c10"
       ],
       "layout": "IPY_MODEL_061dd45e6c0644bfb25b17137e1d5c22"
      }
     },
     "3981bf7e82594ee080fe1abf0c99d43d": {
      "model_module": "@jupyter-widgets/base",
      "model_module_version": "2.0.0",
      "model_name": "LayoutModel",
      "state": {}
     },
     "4786d3fef5004fe38d01e44c30cb5cc8": {
      "model_module": "@jupyter-widgets/controls",
      "model_module_version": "2.0.0",
      "model_name": "HTMLStyleModel",
      "state": {
       "description_width": "",
       "font_size": null,
       "text_color": null
      }
     },
     "4ece9b74803d4bec87c87c732136ba16": {
      "model_module": "@jupyter-widgets/base",
      "model_module_version": "2.0.0",
      "model_name": "LayoutModel",
      "state": {}
     },
     "5166e2dbeb6040e492b446308e13e429": {
      "model_module": "@jupyter-widgets/base",
      "model_module_version": "2.0.0",
      "model_name": "LayoutModel",
      "state": {}
     },
     "585b5fae8e884673807d2f1a7acb9bd1": {
      "model_module": "@jupyter-widgets/controls",
      "model_module_version": "2.0.0",
      "model_name": "HTMLStyleModel",
      "state": {
       "description_width": "",
       "font_size": null,
       "text_color": null
      }
     },
     "5c086665d42c4edca3c1b5b51458ed9c": {
      "model_module": "@jupyter-widgets/controls",
      "model_module_version": "2.0.0",
      "model_name": "HTMLModel",
      "state": {
       "layout": "IPY_MODEL_88559b85509f4a2c806aebfe5ee79e1f",
       "style": "IPY_MODEL_ed48b1dee7d841d184f44b9200adc699",
       "value": " 2/2 [00:00&lt;00:00,  2.42it/s]"
      }
     },
     "7832c42872794337b432e62873434168": {
      "model_module": "@jupyter-widgets/controls",
      "model_module_version": "2.0.0",
      "model_name": "FloatProgressModel",
      "state": {
       "bar_style": "success",
       "layout": "IPY_MODEL_0259da85bf9e418390c52c5c4db0aa88",
       "max": 2,
       "style": "IPY_MODEL_f9695e07997c443fa8242b2b5b7da236",
       "value": 2
      }
     },
     "88559b85509f4a2c806aebfe5ee79e1f": {
      "model_module": "@jupyter-widgets/base",
      "model_module_version": "2.0.0",
      "model_name": "LayoutModel",
      "state": {}
     },
     "92134500bc12460080b60157b7e43c10": {
      "model_module": "@jupyter-widgets/controls",
      "model_module_version": "2.0.0",
      "model_name": "HTMLModel",
      "state": {
       "layout": "IPY_MODEL_4ece9b74803d4bec87c87c732136ba16",
       "style": "IPY_MODEL_4786d3fef5004fe38d01e44c30cb5cc8",
       "value": " 2/2 [00:00&lt;00:00,  2.97it/s]"
      }
     },
     "b65379b68432417b902f0b5b3679f3a9": {
      "model_module": "@jupyter-widgets/base",
      "model_module_version": "2.0.0",
      "model_name": "LayoutModel",
      "state": {}
     },
     "b8bf43ecfa8b437cba4128a289aa5e77": {
      "model_module": "@jupyter-widgets/controls",
      "model_module_version": "2.0.0",
      "model_name": "HTMLModel",
      "state": {
       "layout": "IPY_MODEL_5166e2dbeb6040e492b446308e13e429",
       "style": "IPY_MODEL_d25525c33b214ae7af8ea10417e79964",
       "value": "Loading checkpoint shards: 100%"
      }
     },
     "b90b370981c04716876d4836d81c793d": {
      "model_module": "@jupyter-widgets/base",
      "model_module_version": "2.0.0",
      "model_name": "LayoutModel",
      "state": {}
     },
     "d25525c33b214ae7af8ea10417e79964": {
      "model_module": "@jupyter-widgets/controls",
      "model_module_version": "2.0.0",
      "model_name": "HTMLStyleModel",
      "state": {
       "description_width": "",
       "font_size": null,
       "text_color": null
      }
     },
     "ed48b1dee7d841d184f44b9200adc699": {
      "model_module": "@jupyter-widgets/controls",
      "model_module_version": "2.0.0",
      "model_name": "HTMLStyleModel",
      "state": {
       "description_width": "",
       "font_size": null,
       "text_color": null
      }
     },
     "ef46917073d747a698937a497aa64d13": {
      "model_module": "@jupyter-widgets/controls",
      "model_module_version": "2.0.0",
      "model_name": "ProgressStyleModel",
      "state": {
       "description_width": ""
      }
     },
     "f9695e07997c443fa8242b2b5b7da236": {
      "model_module": "@jupyter-widgets/controls",
      "model_module_version": "2.0.0",
      "model_name": "ProgressStyleModel",
      "state": {
       "description_width": ""
      }
     }
    },
    "version_major": 2,
    "version_minor": 0
   }
  }
 },
 "nbformat": 4,
 "nbformat_minor": 5
}
