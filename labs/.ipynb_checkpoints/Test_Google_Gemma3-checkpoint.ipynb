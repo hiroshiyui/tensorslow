{
 "cells": [
  {
   "cell_type": "code",
   "execution_count": 6,
   "id": "e3abcff1-1628-4d34-95f4-a217214e3a2f",
   "metadata": {
    "execution": {
     "iopub.execute_input": "2025-03-12T15:12:50.093482Z",
     "iopub.status.busy": "2025-03-12T15:12:50.092785Z",
     "iopub.status.idle": "2025-03-12T15:13:17.783706Z",
     "shell.execute_reply": "2025-03-12T15:13:17.783263Z",
     "shell.execute_reply.started": "2025-03-12T15:12:50.093460Z"
    }
   },
   "outputs": [
    {
     "data": {
      "application/vnd.jupyter.widget-view+json": {
       "model_id": "b28dfc9de09d45838cb23bddecf55d1f",
       "version_major": 2,
       "version_minor": 0
      },
      "text/plain": [
       "Loading checkpoint shards:   0%|          | 0/2 [00:00<?, ?it/s]"
      ]
     },
     "metadata": {},
     "output_type": "display_data"
    },
    {
     "name": "stdout",
     "output_type": "stream",
     "text": [
      "<bos>說到珍珠奶茶，<pad><pad><pad><pad><pad><pad><pad><pad><pad><pad><pad><pad><pad><pad><pad><pad><pad><pad><pad><pad><pad><pad><pad><pad><pad><pad><pad><pad><pad><pad><pad><pad><pad><pad><pad><pad><pad><pad><pad><pad><pad><pad><pad><pad><pad><pad><pad><pad><pad><pad><pad><pad><pad><pad><pad><pad><pad><pad><pad><pad><pad><pad><pad><pad><pad><pad><pad><pad><pad><pad><pad><pad><pad><pad><pad><pad><pad><pad><pad><pad><pad><pad><pad><pad><pad><pad><pad><pad><pad><pad><pad><pad><pad><pad><pad><pad><pad><pad><pad><pad><pad><pad><pad><pad><pad><pad><pad><pad><pad><pad><pad><pad><pad><pad><pad><pad><pad><pad><pad><pad><pad><pad><pad><pad><pad><pad><pad><pad>\n"
     ]
    }
   ],
   "source": [
    "import kagglehub\n",
    "import torch\n",
    "from transformers.models.gemma3 import Gemma3ForConditionalGeneration, Gemma3Processor\n",
    "\n",
    "GEMMA_PATH = kagglehub.model_download(\"google/gemma-3/transformers/gemma-3-4b-pt\")\n",
    "processor = Gemma3Processor.from_pretrained(GEMMA_PATH)\n",
    "\n",
    "# Determine if CUDA (GPU) is available\n",
    "device = \"cuda\" if torch.cuda.is_available() else \"cpu\"\n",
    "\n",
    "model = Gemma3ForConditionalGeneration.from_pretrained(GEMMA_PATH, torch_dtype=torch.bfloat16).to(device)\n",
    "# print(model)\n",
    "\n",
    "prompt = \"\"\"說到珍珠奶茶，\"\"\"\n",
    "input_ids = processor(text=prompt, return_tensors=\"pt\").to(device)\n",
    "outputs = model.generate(**input_ids, max_new_tokens=128)\n",
    "text = processor.batch_decode(\n",
    "    outputs,\n",
    "    skip_special_tokens=False,\n",
    "    clean_up_tokenization_spaces=False\n",
    ")\n",
    "print(text[0])\n"
   ]
  },
  {
   "cell_type": "code",
   "execution_count": null,
   "id": "a2bf0395-75c6-4fbb-bea1-5f70c6f7c510",
   "metadata": {},
   "outputs": [],
   "source": []
  }
 ],
 "metadata": {
  "kernelspec": {
   "display_name": "Python 3 (ipykernel)",
   "language": "python",
   "name": "python3"
  },
  "language_info": {
   "codemirror_mode": {
    "name": "ipython",
    "version": 3
   },
   "file_extension": ".py",
   "mimetype": "text/x-python",
   "name": "python",
   "nbconvert_exporter": "python",
   "pygments_lexer": "ipython3",
   "version": "3.12.4"
  },
  "widgets": {
   "application/vnd.jupyter.widget-state+json": {
    "state": {
     "00fc35c7445848f19cf80e7330cd3986": {
      "model_module": "@jupyter-widgets/controls",
      "model_module_version": "2.0.0",
      "model_name": "HBoxModel",
      "state": {
       "children": [
        "IPY_MODEL_0e375221c284437887fdba97728df039",
        "IPY_MODEL_5a86af493d974f93aa475ada6958e124",
        "IPY_MODEL_324adf7de11845fabf5dc47fdd878014"
       ],
       "layout": "IPY_MODEL_2c71f96b2a5042e19028aa9d0ffd9fd7"
      }
     },
     "0185fd19b7c94d3d9ff197a0355d30a8": {
      "model_module": "@jupyter-widgets/controls",
      "model_module_version": "2.0.0",
      "model_name": "HTMLStyleModel",
      "state": {
       "description_width": "",
       "font_size": null,
       "text_color": null
      }
     },
     "02230cb61145454c8b65db3fce445fba": {
      "model_module": "@jupyter-widgets/controls",
      "model_module_version": "2.0.0",
      "model_name": "HTMLModel",
      "state": {
       "layout": "IPY_MODEL_5aec7f24ab2c4393b6b3a696168092ea",
       "style": "IPY_MODEL_d91b3afc5e4041aca12c6aa566f34a62",
       "value": " 2/2 [00:02&lt;00:00,  1.10s/it]"
      }
     },
     "04ee842df847479cab64a12fa80ce6f9": {
      "model_module": "@jupyter-widgets/controls",
      "model_module_version": "2.0.0",
      "model_name": "ProgressStyleModel",
      "state": {
       "description_width": ""
      }
     },
     "07622f57bad64e23bb6f341aeddc86f9": {
      "model_module": "@jupyter-widgets/controls",
      "model_module_version": "2.0.0",
      "model_name": "ProgressStyleModel",
      "state": {
       "description_width": ""
      }
     },
     "082524bc7cee49948941d868551d19e5": {
      "model_module": "@jupyter-widgets/base",
      "model_module_version": "2.0.0",
      "model_name": "LayoutModel",
      "state": {}
     },
     "09bc8baaba05402991f0ae8f2b1cf198": {
      "model_module": "@jupyter-widgets/base",
      "model_module_version": "2.0.0",
      "model_name": "LayoutModel",
      "state": {}
     },
     "0b7ac11873254589b3b0b606f336e1ab": {
      "model_module": "@jupyter-widgets/controls",
      "model_module_version": "2.0.0",
      "model_name": "HBoxModel",
      "state": {
       "children": [
        "IPY_MODEL_45914f016bc54878b726a3400b8a370d",
        "IPY_MODEL_0f42e0328a154d35a107b88e7533b60b",
        "IPY_MODEL_4fd7bd4587e14f549db64f2e7c679bb3"
       ],
       "layout": "IPY_MODEL_493a421c1d114640876ae65e9e08dcaa"
      }
     },
     "0b97b651eee14dd7b982734d8528bec5": {
      "model_module": "@jupyter-widgets/base",
      "model_module_version": "2.0.0",
      "model_name": "LayoutModel",
      "state": {}
     },
     "0e375221c284437887fdba97728df039": {
      "model_module": "@jupyter-widgets/controls",
      "model_module_version": "2.0.0",
      "model_name": "HTMLModel",
      "state": {
       "layout": "IPY_MODEL_a6664dcf8ad740ff99ad41c2c8f80a66",
       "style": "IPY_MODEL_8ee89e324d8c4e02962a921c7b8f79ea",
       "value": "Loading checkpoint shards: 100%"
      }
     },
     "0f42e0328a154d35a107b88e7533b60b": {
      "model_module": "@jupyter-widgets/controls",
      "model_module_version": "2.0.0",
      "model_name": "FloatProgressModel",
      "state": {
       "bar_style": "success",
       "layout": "IPY_MODEL_60297df617a24c29aff45fe53207eda8",
       "max": 12,
       "style": "IPY_MODEL_04ee842df847479cab64a12fa80ce6f9",
       "value": 12
      }
     },
     "100731619020449eb66f096f4ae70294": {
      "model_module": "@jupyter-widgets/base",
      "model_module_version": "2.0.0",
      "model_name": "LayoutModel",
      "state": {}
     },
     "13f3ea149337447b9d2e8c2e47f4b112": {
      "model_module": "@jupyter-widgets/base",
      "model_module_version": "2.0.0",
      "model_name": "LayoutModel",
      "state": {}
     },
     "198d4040ad8347b6b0a56b1f7978f402": {
      "model_module": "@jupyter-widgets/controls",
      "model_module_version": "2.0.0",
      "model_name": "HTMLStyleModel",
      "state": {
       "description_width": "",
       "font_size": null,
       "text_color": null
      }
     },
     "1c2c092848334494b035393f53c80bac": {
      "model_module": "@jupyter-widgets/base",
      "model_module_version": "2.0.0",
      "model_name": "LayoutModel",
      "state": {}
     },
     "1dd50c0debdc4cdeb51162703b43cb9c": {
      "model_module": "@jupyter-widgets/base",
      "model_module_version": "2.0.0",
      "model_name": "LayoutModel",
      "state": {}
     },
     "29445104d87f49e6b9366ad5a6edc209": {
      "model_module": "@jupyter-widgets/controls",
      "model_module_version": "2.0.0",
      "model_name": "FloatProgressModel",
      "state": {
       "bar_style": "success",
       "layout": "IPY_MODEL_13f3ea149337447b9d2e8c2e47f4b112",
       "max": 2,
       "style": "IPY_MODEL_bdd8345ef17d430e9b3a05acf2a820f0",
       "value": 2
      }
     },
     "2c71f96b2a5042e19028aa9d0ffd9fd7": {
      "model_module": "@jupyter-widgets/base",
      "model_module_version": "2.0.0",
      "model_name": "LayoutModel",
      "state": {}
     },
     "324adf7de11845fabf5dc47fdd878014": {
      "model_module": "@jupyter-widgets/controls",
      "model_module_version": "2.0.0",
      "model_name": "HTMLModel",
      "state": {
       "layout": "IPY_MODEL_100731619020449eb66f096f4ae70294",
       "style": "IPY_MODEL_d51f946ef09a4f0fb0878807225c8077",
       "value": " 2/2 [00:01&lt;00:00,  1.88it/s]"
      }
     },
     "3991f7f5f77247ffa62e0f7fb7639260": {
      "model_module": "@jupyter-widgets/controls",
      "model_module_version": "2.0.0",
      "model_name": "HTMLStyleModel",
      "state": {
       "description_width": "",
       "font_size": null,
       "text_color": null
      }
     },
     "3d94a0c2a5324ee3b157e7c38cf797ed": {
      "model_module": "@jupyter-widgets/controls",
      "model_module_version": "2.0.0",
      "model_name": "ProgressStyleModel",
      "state": {
       "description_width": ""
      }
     },
     "3dc61f8863c54a0196203f29e7778ba7": {
      "model_module": "@jupyter-widgets/base",
      "model_module_version": "2.0.0",
      "model_name": "LayoutModel",
      "state": {}
     },
     "3e27bcc5ce5e4b95bc143a3b3519f51c": {
      "model_module": "@jupyter-widgets/controls",
      "model_module_version": "2.0.0",
      "model_name": "HTMLModel",
      "state": {
       "layout": "IPY_MODEL_09bc8baaba05402991f0ae8f2b1cf198",
       "style": "IPY_MODEL_43700cd4581a49bcb23a2ae87310165b",
       "value": " 2/2 [00:01&lt;00:00,  1.14it/s]"
      }
     },
     "43700cd4581a49bcb23a2ae87310165b": {
      "model_module": "@jupyter-widgets/controls",
      "model_module_version": "2.0.0",
      "model_name": "HTMLStyleModel",
      "state": {
       "description_width": "",
       "font_size": null,
       "text_color": null
      }
     },
     "45914f016bc54878b726a3400b8a370d": {
      "model_module": "@jupyter-widgets/controls",
      "model_module_version": "2.0.0",
      "model_name": "HTMLModel",
      "state": {
       "layout": "IPY_MODEL_082524bc7cee49948941d868551d19e5",
       "style": "IPY_MODEL_c36c5bad379e413cbd318a5f674d6053",
       "value": "Downloading 12 files: 100%"
      }
     },
     "493a421c1d114640876ae65e9e08dcaa": {
      "model_module": "@jupyter-widgets/base",
      "model_module_version": "2.0.0",
      "model_name": "LayoutModel",
      "state": {}
     },
     "4de569c0c62349a9bb02623275bbf639": {
      "model_module": "@jupyter-widgets/controls",
      "model_module_version": "2.0.0",
      "model_name": "HTMLStyleModel",
      "state": {
       "description_width": "",
       "font_size": null,
       "text_color": null
      }
     },
     "4ecefc48a79f492f94ffcc133fd6e6a1": {
      "model_module": "@jupyter-widgets/controls",
      "model_module_version": "2.0.0",
      "model_name": "HTMLModel",
      "state": {
       "layout": "IPY_MODEL_0b97b651eee14dd7b982734d8528bec5",
       "style": "IPY_MODEL_4de569c0c62349a9bb02623275bbf639",
       "value": " 2/2 [00:01&lt;00:00,  1.86it/s]"
      }
     },
     "4fd7bd4587e14f549db64f2e7c679bb3": {
      "model_module": "@jupyter-widgets/controls",
      "model_module_version": "2.0.0",
      "model_name": "HTMLModel",
      "state": {
       "layout": "IPY_MODEL_f381ada1aaae4370ba0db456c1066c0d",
       "style": "IPY_MODEL_198d4040ad8347b6b0a56b1f7978f402",
       "value": " 12/12 [00:55&lt;00:00, 14.97s/it]"
      }
     },
     "5a86af493d974f93aa475ada6958e124": {
      "model_module": "@jupyter-widgets/controls",
      "model_module_version": "2.0.0",
      "model_name": "FloatProgressModel",
      "state": {
       "bar_style": "success",
       "layout": "IPY_MODEL_f4044ffc3ec144528e15d91f37c4f73f",
       "max": 2,
       "style": "IPY_MODEL_3d94a0c2a5324ee3b157e7c38cf797ed",
       "value": 2
      }
     },
     "5aec7f24ab2c4393b6b3a696168092ea": {
      "model_module": "@jupyter-widgets/base",
      "model_module_version": "2.0.0",
      "model_name": "LayoutModel",
      "state": {}
     },
     "5c3dde68a00f49e993c8c2866164f947": {
      "model_module": "@jupyter-widgets/controls",
      "model_module_version": "2.0.0",
      "model_name": "FloatProgressModel",
      "state": {
       "bar_style": "success",
       "layout": "IPY_MODEL_b6a8aec2b9b84d04bed891f8710524aa",
       "max": 2,
       "style": "IPY_MODEL_a18312bb00204281b6992b4ffb04f807",
       "value": 2
      }
     },
     "5c899ab3bd4c41f49547af1d9cbff417": {
      "model_module": "@jupyter-widgets/controls",
      "model_module_version": "2.0.0",
      "model_name": "FloatProgressModel",
      "state": {
       "bar_style": "success",
       "layout": "IPY_MODEL_80bd47d9a9514a9099d1375f72c779e0",
       "max": 2,
       "style": "IPY_MODEL_7dadf1bc054444658856325375b14b3c",
       "value": 2
      }
     },
     "5cecec73a5d449a0b79ab26aa9654f20": {
      "model_module": "@jupyter-widgets/controls",
      "model_module_version": "2.0.0",
      "model_name": "HTMLStyleModel",
      "state": {
       "description_width": "",
       "font_size": null,
       "text_color": null
      }
     },
     "60297df617a24c29aff45fe53207eda8": {
      "model_module": "@jupyter-widgets/base",
      "model_module_version": "2.0.0",
      "model_name": "LayoutModel",
      "state": {}
     },
     "61099992df6643c8bd3339cdbab585ac": {
      "model_module": "@jupyter-widgets/base",
      "model_module_version": "2.0.0",
      "model_name": "LayoutModel",
      "state": {}
     },
     "64aa81c0da8846648ec797dcb762213e": {
      "model_module": "@jupyter-widgets/base",
      "model_module_version": "2.0.0",
      "model_name": "LayoutModel",
      "state": {}
     },
     "6661bf67583f422e8404f3a7856a33d3": {
      "model_module": "@jupyter-widgets/base",
      "model_module_version": "2.0.0",
      "model_name": "LayoutModel",
      "state": {}
     },
     "75d13fffda394a2a969dc294f7cf85d6": {
      "model_module": "@jupyter-widgets/base",
      "model_module_version": "2.0.0",
      "model_name": "LayoutModel",
      "state": {}
     },
     "770c78bcfb7544dea5a6a7730740d342": {
      "model_module": "@jupyter-widgets/controls",
      "model_module_version": "2.0.0",
      "model_name": "HTMLStyleModel",
      "state": {
       "description_width": "",
       "font_size": null,
       "text_color": null
      }
     },
     "7970b72316b74580a202bd51ddc5fa08": {
      "model_module": "@jupyter-widgets/controls",
      "model_module_version": "2.0.0",
      "model_name": "HTMLModel",
      "state": {
       "layout": "IPY_MODEL_927300fb6cdd4c4bbeca10c222468d6b",
       "style": "IPY_MODEL_dc3608ad01b947ab949e80197281b8f1",
       "value": "Loading checkpoint shards: 100%"
      }
     },
     "7c79a35574eb4618b8fae75d81c4cbc5": {
      "model_module": "@jupyter-widgets/controls",
      "model_module_version": "2.0.0",
      "model_name": "HTMLModel",
      "state": {
       "layout": "IPY_MODEL_1dd50c0debdc4cdeb51162703b43cb9c",
       "style": "IPY_MODEL_770c78bcfb7544dea5a6a7730740d342",
       "value": "Loading checkpoint shards: 100%"
      }
     },
     "7dadf1bc054444658856325375b14b3c": {
      "model_module": "@jupyter-widgets/controls",
      "model_module_version": "2.0.0",
      "model_name": "ProgressStyleModel",
      "state": {
       "description_width": ""
      }
     },
     "80bd47d9a9514a9099d1375f72c779e0": {
      "model_module": "@jupyter-widgets/base",
      "model_module_version": "2.0.0",
      "model_name": "LayoutModel",
      "state": {}
     },
     "824d4a8c9d0f4d3ba32adab8ebd208c8": {
      "model_module": "@jupyter-widgets/base",
      "model_module_version": "2.0.0",
      "model_name": "LayoutModel",
      "state": {}
     },
     "85a993064d8c4c878e449b9507bccca0": {
      "model_module": "@jupyter-widgets/controls",
      "model_module_version": "2.0.0",
      "model_name": "HBoxModel",
      "state": {
       "children": [
        "IPY_MODEL_aa9d1cf6626c410caf40cdb5e00ad6d9",
        "IPY_MODEL_9e40606651394f5fb87fbfdcc5f527cf",
        "IPY_MODEL_a6a412a97b45422d8a75f97f98dc4056"
       ],
       "layout": "IPY_MODEL_64aa81c0da8846648ec797dcb762213e"
      }
     },
     "8d8baf57bebc4f8586a10d5ba8e1ad99": {
      "model_module": "@jupyter-widgets/controls",
      "model_module_version": "2.0.0",
      "model_name": "HTMLModel",
      "state": {
       "layout": "IPY_MODEL_3dc61f8863c54a0196203f29e7778ba7",
       "style": "IPY_MODEL_cfcd9f9b2fd6443ebd8848b633e77981",
       "value": " 2/2 [00:01&lt;00:00,  1.02it/s]"
      }
     },
     "8ee89e324d8c4e02962a921c7b8f79ea": {
      "model_module": "@jupyter-widgets/controls",
      "model_module_version": "2.0.0",
      "model_name": "HTMLStyleModel",
      "state": {
       "description_width": "",
       "font_size": null,
       "text_color": null
      }
     },
     "927300fb6cdd4c4bbeca10c222468d6b": {
      "model_module": "@jupyter-widgets/base",
      "model_module_version": "2.0.0",
      "model_name": "LayoutModel",
      "state": {}
     },
     "9e40606651394f5fb87fbfdcc5f527cf": {
      "model_module": "@jupyter-widgets/controls",
      "model_module_version": "2.0.0",
      "model_name": "FloatProgressModel",
      "state": {
       "bar_style": "success",
       "layout": "IPY_MODEL_e197b9342d1f41768c86e832494011e6",
       "max": 2,
       "style": "IPY_MODEL_f60657acecd84b4dbe0c424286c5f8e9",
       "value": 2
      }
     },
     "a18312bb00204281b6992b4ffb04f807": {
      "model_module": "@jupyter-widgets/controls",
      "model_module_version": "2.0.0",
      "model_name": "ProgressStyleModel",
      "state": {
       "description_width": ""
      }
     },
     "a6664dcf8ad740ff99ad41c2c8f80a66": {
      "model_module": "@jupyter-widgets/base",
      "model_module_version": "2.0.0",
      "model_name": "LayoutModel",
      "state": {}
     },
     "a6a412a97b45422d8a75f97f98dc4056": {
      "model_module": "@jupyter-widgets/controls",
      "model_module_version": "2.0.0",
      "model_name": "HTMLModel",
      "state": {
       "layout": "IPY_MODEL_1c2c092848334494b035393f53c80bac",
       "style": "IPY_MODEL_5cecec73a5d449a0b79ab26aa9654f20",
       "value": " 2/2 [00:01&lt;00:00,  1.97it/s]"
      }
     },
     "aa9d1cf6626c410caf40cdb5e00ad6d9": {
      "model_module": "@jupyter-widgets/controls",
      "model_module_version": "2.0.0",
      "model_name": "HTMLModel",
      "state": {
       "layout": "IPY_MODEL_61099992df6643c8bd3339cdbab585ac",
       "style": "IPY_MODEL_e78df593dafb4dd4968d3a289b9405ae",
       "value": "Loading checkpoint shards: 100%"
      }
     },
     "b28dfc9de09d45838cb23bddecf55d1f": {
      "model_module": "@jupyter-widgets/controls",
      "model_module_version": "2.0.0",
      "model_name": "HBoxModel",
      "state": {
       "children": [
        "IPY_MODEL_f544b53a993c47d09743e8814eaf7c46",
        "IPY_MODEL_5c3dde68a00f49e993c8c2866164f947",
        "IPY_MODEL_8d8baf57bebc4f8586a10d5ba8e1ad99"
       ],
       "layout": "IPY_MODEL_cb0b54b356e04230a03a183ead6c2201"
      }
     },
     "b2ee9e7c70344a06960cffdf533780ac": {
      "model_module": "@jupyter-widgets/base",
      "model_module_version": "2.0.0",
      "model_name": "LayoutModel",
      "state": {}
     },
     "b2fdc4e307d64ad7be57953b136fde1a": {
      "model_module": "@jupyter-widgets/base",
      "model_module_version": "2.0.0",
      "model_name": "LayoutModel",
      "state": {}
     },
     "b6a8aec2b9b84d04bed891f8710524aa": {
      "model_module": "@jupyter-widgets/base",
      "model_module_version": "2.0.0",
      "model_name": "LayoutModel",
      "state": {}
     },
     "bdd8345ef17d430e9b3a05acf2a820f0": {
      "model_module": "@jupyter-widgets/controls",
      "model_module_version": "2.0.0",
      "model_name": "ProgressStyleModel",
      "state": {
       "description_width": ""
      }
     },
     "c2f24dd31b804880a6190c7ba1af837d": {
      "model_module": "@jupyter-widgets/controls",
      "model_module_version": "2.0.0",
      "model_name": "HBoxModel",
      "state": {
       "children": [
        "IPY_MODEL_fd22de16977f4996a24c029f4a648f3b",
        "IPY_MODEL_29445104d87f49e6b9366ad5a6edc209",
        "IPY_MODEL_02230cb61145454c8b65db3fce445fba"
       ],
       "layout": "IPY_MODEL_75d13fffda394a2a969dc294f7cf85d6"
      }
     },
     "c36c5bad379e413cbd318a5f674d6053": {
      "model_module": "@jupyter-widgets/controls",
      "model_module_version": "2.0.0",
      "model_name": "HTMLStyleModel",
      "state": {
       "description_width": "",
       "font_size": null,
       "text_color": null
      }
     },
     "c5b5e0fc669040df9fa4e98deae243a7": {
      "model_module": "@jupyter-widgets/controls",
      "model_module_version": "2.0.0",
      "model_name": "FloatProgressModel",
      "state": {
       "bar_style": "success",
       "layout": "IPY_MODEL_b2fdc4e307d64ad7be57953b136fde1a",
       "max": 2,
       "style": "IPY_MODEL_07622f57bad64e23bb6f341aeddc86f9",
       "value": 2
      }
     },
     "cb0b54b356e04230a03a183ead6c2201": {
      "model_module": "@jupyter-widgets/base",
      "model_module_version": "2.0.0",
      "model_name": "LayoutModel",
      "state": {}
     },
     "ceab95062072435d8fa1d9a4bdb524f0": {
      "model_module": "@jupyter-widgets/controls",
      "model_module_version": "2.0.0",
      "model_name": "HBoxModel",
      "state": {
       "children": [
        "IPY_MODEL_7970b72316b74580a202bd51ddc5fa08",
        "IPY_MODEL_5c899ab3bd4c41f49547af1d9cbff417",
        "IPY_MODEL_3e27bcc5ce5e4b95bc143a3b3519f51c"
       ],
       "layout": "IPY_MODEL_ff36c607e9c747ec92cb1ae20787ad34"
      }
     },
     "cfcd9f9b2fd6443ebd8848b633e77981": {
      "model_module": "@jupyter-widgets/controls",
      "model_module_version": "2.0.0",
      "model_name": "HTMLStyleModel",
      "state": {
       "description_width": "",
       "font_size": null,
       "text_color": null
      }
     },
     "d51f946ef09a4f0fb0878807225c8077": {
      "model_module": "@jupyter-widgets/controls",
      "model_module_version": "2.0.0",
      "model_name": "HTMLStyleModel",
      "state": {
       "description_width": "",
       "font_size": null,
       "text_color": null
      }
     },
     "d91b3afc5e4041aca12c6aa566f34a62": {
      "model_module": "@jupyter-widgets/controls",
      "model_module_version": "2.0.0",
      "model_name": "HTMLStyleModel",
      "state": {
       "description_width": "",
       "font_size": null,
       "text_color": null
      }
     },
     "dc3608ad01b947ab949e80197281b8f1": {
      "model_module": "@jupyter-widgets/controls",
      "model_module_version": "2.0.0",
      "model_name": "HTMLStyleModel",
      "state": {
       "description_width": "",
       "font_size": null,
       "text_color": null
      }
     },
     "e197b9342d1f41768c86e832494011e6": {
      "model_module": "@jupyter-widgets/base",
      "model_module_version": "2.0.0",
      "model_name": "LayoutModel",
      "state": {}
     },
     "e78df593dafb4dd4968d3a289b9405ae": {
      "model_module": "@jupyter-widgets/controls",
      "model_module_version": "2.0.0",
      "model_name": "HTMLStyleModel",
      "state": {
       "description_width": "",
       "font_size": null,
       "text_color": null
      }
     },
     "eee3631a426d483cbe78b3c57374e96b": {
      "model_module": "@jupyter-widgets/controls",
      "model_module_version": "2.0.0",
      "model_name": "HBoxModel",
      "state": {
       "children": [
        "IPY_MODEL_7c79a35574eb4618b8fae75d81c4cbc5",
        "IPY_MODEL_c5b5e0fc669040df9fa4e98deae243a7",
        "IPY_MODEL_4ecefc48a79f492f94ffcc133fd6e6a1"
       ],
       "layout": "IPY_MODEL_824d4a8c9d0f4d3ba32adab8ebd208c8"
      }
     },
     "f381ada1aaae4370ba0db456c1066c0d": {
      "model_module": "@jupyter-widgets/base",
      "model_module_version": "2.0.0",
      "model_name": "LayoutModel",
      "state": {}
     },
     "f4044ffc3ec144528e15d91f37c4f73f": {
      "model_module": "@jupyter-widgets/base",
      "model_module_version": "2.0.0",
      "model_name": "LayoutModel",
      "state": {}
     },
     "f544b53a993c47d09743e8814eaf7c46": {
      "model_module": "@jupyter-widgets/controls",
      "model_module_version": "2.0.0",
      "model_name": "HTMLModel",
      "state": {
       "layout": "IPY_MODEL_6661bf67583f422e8404f3a7856a33d3",
       "style": "IPY_MODEL_0185fd19b7c94d3d9ff197a0355d30a8",
       "value": "Loading checkpoint shards: 100%"
      }
     },
     "f60657acecd84b4dbe0c424286c5f8e9": {
      "model_module": "@jupyter-widgets/controls",
      "model_module_version": "2.0.0",
      "model_name": "ProgressStyleModel",
      "state": {
       "description_width": ""
      }
     },
     "fd22de16977f4996a24c029f4a648f3b": {
      "model_module": "@jupyter-widgets/controls",
      "model_module_version": "2.0.0",
      "model_name": "HTMLModel",
      "state": {
       "layout": "IPY_MODEL_b2ee9e7c70344a06960cffdf533780ac",
       "style": "IPY_MODEL_3991f7f5f77247ffa62e0f7fb7639260",
       "value": "Loading checkpoint shards: 100%"
      }
     },
     "ff36c607e9c747ec92cb1ae20787ad34": {
      "model_module": "@jupyter-widgets/base",
      "model_module_version": "2.0.0",
      "model_name": "LayoutModel",
      "state": {}
     }
    },
    "version_major": 2,
    "version_minor": 0
   }
  }
 },
 "nbformat": 4,
 "nbformat_minor": 5
}
