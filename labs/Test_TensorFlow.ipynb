{
 "cells": [
  {
   "cell_type": "code",
   "execution_count": 1,
   "id": "9e097410-baf7-48f8-8bbc-a666479b0b63",
   "metadata": {
    "execution": {
     "iopub.execute_input": "2025-02-27T09:13:55.834005Z",
     "iopub.status.busy": "2025-02-27T09:13:55.833452Z",
     "iopub.status.idle": "2025-02-27T09:13:55.837609Z",
     "shell.execute_reply": "2025-02-27T09:13:55.837073Z",
     "shell.execute_reply.started": "2025-02-27T09:13:55.833971Z"
    }
   },
   "outputs": [],
   "source": [
    "import tensorflow as tf"
   ]
  },
  {
   "cell_type": "code",
   "execution_count": 2,
   "id": "8e317731-5726-499a-a839-9228cba40255",
   "metadata": {
    "execution": {
     "iopub.execute_input": "2025-02-26T05:46:30.684136Z",
     "iopub.status.busy": "2025-02-26T05:46:30.683625Z",
     "iopub.status.idle": "2025-02-26T05:46:30.689557Z",
     "shell.execute_reply": "2025-02-26T05:46:30.689210Z",
     "shell.execute_reply.started": "2025-02-26T05:46:30.684113Z"
    }
   },
   "outputs": [
    {
     "data": {
      "text/plain": [
       "OrderedDict([('is_cuda_build', False),\n",
       "             ('is_rocm_build', False),\n",
       "             ('is_tensorrt_build', False)])"
      ]
     },
     "execution_count": 2,
     "metadata": {},
     "output_type": "execute_result"
    }
   ],
   "source": [
    "tf.sysconfig.get_build_info()"
   ]
  },
  {
   "cell_type": "code",
   "execution_count": 3,
   "id": "be1c635d-0ef4-402b-aa76-6356c0c38c3d",
   "metadata": {
    "execution": {
     "iopub.execute_input": "2025-02-26T05:47:14.562139Z",
     "iopub.status.busy": "2025-02-26T05:47:14.561850Z",
     "iopub.status.idle": "2025-02-26T05:47:14.570681Z",
     "shell.execute_reply": "2025-02-26T05:47:14.570341Z",
     "shell.execute_reply.started": "2025-02-26T05:47:14.562119Z"
    }
   },
   "outputs": [
    {
     "data": {
      "text/plain": [
       "[PhysicalDevice(name='/physical_device:CPU:0', device_type='CPU')]"
      ]
     },
     "execution_count": 3,
     "metadata": {},
     "output_type": "execute_result"
    }
   ],
   "source": [
    "tf.config.list_physical_devices('CPU')"
   ]
  },
  {
   "cell_type": "code",
   "execution_count": null,
   "id": "8248370c-b346-4df3-ae69-1f3a70fb7bea",
   "metadata": {},
   "outputs": [],
   "source": []
  }
 ],
 "metadata": {
  "kernelspec": {
   "display_name": "Python 3 (ipykernel)",
   "language": "python",
   "name": "python3"
  },
  "language_info": {
   "codemirror_mode": {
    "name": "ipython",
    "version": 3
   },
   "file_extension": ".py",
   "mimetype": "text/x-python",
   "name": "python",
   "nbconvert_exporter": "python",
   "pygments_lexer": "ipython3",
   "version": "3.12.4"
  },
  "widgets": {
   "application/vnd.jupyter.widget-state+json": {
    "state": {},
    "version_major": 2,
    "version_minor": 0
   }
  }
 },
 "nbformat": 4,
 "nbformat_minor": 5
}
