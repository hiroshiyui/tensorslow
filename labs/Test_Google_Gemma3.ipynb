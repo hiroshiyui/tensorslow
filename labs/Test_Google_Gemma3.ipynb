{
 "cells": [
  {
   "cell_type": "code",
   "execution_count": 8,
   "id": "e3abcff1-1628-4d34-95f4-a217214e3a2f",
   "metadata": {
    "execution": {
     "iopub.execute_input": "2025-03-13T03:33:02.677652Z",
     "iopub.status.busy": "2025-03-13T03:33:02.677377Z",
     "iopub.status.idle": "2025-03-13T03:33:22.533853Z",
     "shell.execute_reply": "2025-03-13T03:33:22.533524Z",
     "shell.execute_reply.started": "2025-03-13T03:33:02.677633Z"
    }
   },
   "outputs": [
    {
     "data": {
      "application/vnd.jupyter.widget-view+json": {
       "model_id": "fa9d1b68d79e48baac929f87931576e7",
       "version_major": 2,
       "version_minor": 0
      },
      "text/plain": [
       "Loading checkpoint shards:   0%|          | 0/2 [00:00<?, ?it/s]"
      ]
     },
     "metadata": {},
     "output_type": "display_data"
    },
    {
     "name": "stdout",
     "output_type": "stream",
     "text": [
      "<bos>解釋珍珠奶茶的起源 珍珠奶茶的起源 珍珠奶茶的起源 珍珠奶茶的起源 珍珠奶茶的起源 珍珠奶茶的起源 珍珠奶茶的起源 珍珠奶茶的起源 珍珠奶茶的起源 珍珠奶茶的起源 珍珠奶茶的起源 珍珠奶茶的\n"
     ]
    }
   ],
   "source": [
    "import kagglehub\n",
    "import torch\n",
    "from transformers.models.gemma3 import Gemma3ForConditionalGeneration, Gemma3Processor\n",
    "\n",
    "GEMMA_PATH = kagglehub.model_download(\"google/gemma-3/transformers/gemma-3-4b-pt\")\n",
    "processor = Gemma3Processor.from_pretrained(GEMMA_PATH)\n",
    "\n",
    "# Determine if CUDA (GPU) is available\n",
    "device = \"cuda\" if torch.cuda.is_available() else \"cpu\"\n",
    "\n",
    "model = Gemma3ForConditionalGeneration.from_pretrained(GEMMA_PATH, torch_dtype=torch.bfloat16).to(device)\n",
    "# print(model)\n",
    "\n",
    "prompt = \"解釋珍珠奶茶的起源 \"\n",
    "input_ids = processor(text=prompt, return_tensors=\"pt\").to(device)\n",
    "outputs = model.generate(**input_ids, max_new_tokens=64)\n",
    "text = processor.batch_decode(\n",
    "    outputs,\n",
    "    skip_special_tokens=False,\n",
    "    clean_up_tokenization_spaces=False\n",
    ")\n",
    "print(text[0])\n"
   ]
  },
  {
   "cell_type": "code",
   "execution_count": null,
   "id": "a2bf0395-75c6-4fbb-bea1-5f70c6f7c510",
   "metadata": {},
   "outputs": [],
   "source": []
  }
 ],
 "metadata": {
  "kernelspec": {
   "display_name": "Python 3 (ipykernel)",
   "language": "python",
   "name": "python3"
  },
  "language_info": {
   "codemirror_mode": {
    "name": "ipython",
    "version": 3
   },
   "file_extension": ".py",
   "mimetype": "text/x-python",
   "name": "python",
   "nbconvert_exporter": "python",
   "pygments_lexer": "ipython3",
   "version": "3.12.4"
  },
  "widgets": {
   "application/vnd.jupyter.widget-state+json": {
    "state": {},
    "version_major": 2,
    "version_minor": 0
   }
  }
 },
 "nbformat": 4,
 "nbformat_minor": 5
}
