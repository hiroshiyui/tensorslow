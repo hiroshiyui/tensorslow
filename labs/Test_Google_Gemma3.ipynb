{
 "cells": [
  {
   "cell_type": "code",
   "execution_count": 8,
   "id": "e3abcff1-1628-4d34-95f4-a217214e3a2f",
   "metadata": {
    "execution": {
     "iopub.execute_input": "2025-03-13T03:33:02.677652Z",
     "iopub.status.busy": "2025-03-13T03:33:02.677377Z",
     "iopub.status.idle": "2025-03-13T03:33:22.533853Z",
     "shell.execute_reply": "2025-03-13T03:33:22.533524Z",
     "shell.execute_reply.started": "2025-03-13T03:33:02.677633Z"
    }
   },
   "outputs": [
    {
     "data": {
      "application/vnd.jupyter.widget-view+json": {
       "model_id": "fa9d1b68d79e48baac929f87931576e7",
       "version_major": 2,
       "version_minor": 0
      },
      "text/plain": [
       "Loading checkpoint shards:   0%|          | 0/2 [00:00<?, ?it/s]"
      ]
     },
     "metadata": {},
     "output_type": "display_data"
    },
    {
     "name": "stdout",
     "output_type": "stream",
     "text": [
      "<bos>解釋珍珠奶茶的起源 珍珠奶茶的起源 珍珠奶茶的起源 珍珠奶茶的起源 珍珠奶茶的起源 珍珠奶茶的起源 珍珠奶茶的起源 珍珠奶茶的起源 珍珠奶茶的起源 珍珠奶茶的起源 珍珠奶茶的起源 珍珠奶茶的\n"
     ]
    }
   ],
   "source": [
    "import kagglehub\n",
    "import torch\n",
    "from transformers.models.gemma3 import Gemma3ForConditionalGeneration, Gemma3Processor\n",
    "\n",
    "GEMMA_PATH = kagglehub.model_download(\"google/gemma-3/transformers/gemma-3-4b-pt\")\n",
    "processor = Gemma3Processor.from_pretrained(GEMMA_PATH)\n",
    "\n",
    "# Determine if CUDA (GPU) is available\n",
    "device = \"cuda\" if torch.cuda.is_available() else \"cpu\"\n",
    "\n",
    "model = Gemma3ForConditionalGeneration.from_pretrained(GEMMA_PATH, torch_dtype=torch.bfloat16).to(device)\n",
    "# print(model)\n",
    "\n",
    "prompt = \"解釋珍珠奶茶的起源 \"\n",
    "input_ids = processor(text=prompt, return_tensors=\"pt\").to(device)\n",
    "outputs = model.generate(**input_ids, max_new_tokens=64)\n",
    "text = processor.batch_decode(\n",
    "    outputs,\n",
    "    skip_special_tokens=False,\n",
    "    clean_up_tokenization_spaces=False\n",
    ")\n",
    "print(text[0])\n"
   ]
  },
  {
   "cell_type": "code",
   "execution_count": null,
   "id": "a2bf0395-75c6-4fbb-bea1-5f70c6f7c510",
   "metadata": {},
   "outputs": [],
   "source": []
  }
 ],
 "metadata": {
  "kernelspec": {
   "display_name": "Python 3 (ipykernel)",
   "language": "python",
   "name": "python3"
  },
  "language_info": {
   "codemirror_mode": {
    "name": "ipython",
    "version": 3
   },
   "file_extension": ".py",
   "mimetype": "text/x-python",
   "name": "python",
   "nbconvert_exporter": "python",
   "pygments_lexer": "ipython3",
   "version": "3.12.4"
  },
  "widgets": {
   "application/vnd.jupyter.widget-state+json": {
    "state": {
     "048b47d409374205b64e3cf811582eaf": {
      "model_module": "@jupyter-widgets/controls",
      "model_module_version": "2.0.0",
      "model_name": "FloatProgressModel",
      "state": {
       "bar_style": "success",
       "layout": "IPY_MODEL_6667d9b7b4074ad8adabc9bcf2557cfb",
       "max": 2,
       "style": "IPY_MODEL_ba61c3a7ea294d28950dcc659f612411",
       "value": 2
      }
     },
     "115c4d6de0cf4a3c8908ff93fbe36bec": {
      "model_module": "@jupyter-widgets/controls",
      "model_module_version": "2.0.0",
      "model_name": "HBoxModel",
      "state": {
       "children": [
        "IPY_MODEL_999257e107894dd2867e88d7805c72a7",
        "IPY_MODEL_ada03957ca6b4de492317261e6bfb976",
        "IPY_MODEL_24f1ced77add4e2dac6bfdc6ab12c285"
       ],
       "layout": "IPY_MODEL_7f468ea2a4a24213bb7403c8326cd088"
      }
     },
     "13ac510c0b0e4672a1e6ac5cf1daff75": {
      "model_module": "@jupyter-widgets/base",
      "model_module_version": "2.0.0",
      "model_name": "LayoutModel",
      "state": {}
     },
     "156ebd76e92a4ddda5cc4b37040c89cb": {
      "model_module": "@jupyter-widgets/controls",
      "model_module_version": "2.0.0",
      "model_name": "HTMLModel",
      "state": {
       "layout": "IPY_MODEL_a8a862b4f29147b0aeb716e609ed326c",
       "style": "IPY_MODEL_3cc5140f921a4c18bb40d963385426b1",
       "value": "Loading checkpoint shards: 100%"
      }
     },
     "1a44265cd5da460383b21e0e067f4971": {
      "model_module": "@jupyter-widgets/controls",
      "model_module_version": "2.0.0",
      "model_name": "HTMLModel",
      "state": {
       "layout": "IPY_MODEL_59eae2edfaf74c67bb17fa8368989c8a",
       "style": "IPY_MODEL_2cebdee4521f42c19e69bc8bbf8cc5be",
       "value": "Loading checkpoint shards: 100%"
      }
     },
     "1c31c3da8db44c53bea8f5300db46928": {
      "model_module": "@jupyter-widgets/base",
      "model_module_version": "2.0.0",
      "model_name": "LayoutModel",
      "state": {}
     },
     "1c3f19a9a3ab490c8e8c43f84d52348b": {
      "model_module": "@jupyter-widgets/controls",
      "model_module_version": "2.0.0",
      "model_name": "ProgressStyleModel",
      "state": {
       "description_width": ""
      }
     },
     "1d4e54019d7d4112b4345b503d0a23f1": {
      "model_module": "@jupyter-widgets/base",
      "model_module_version": "2.0.0",
      "model_name": "LayoutModel",
      "state": {}
     },
     "24f1ced77add4e2dac6bfdc6ab12c285": {
      "model_module": "@jupyter-widgets/controls",
      "model_module_version": "2.0.0",
      "model_name": "HTMLModel",
      "state": {
       "layout": "IPY_MODEL_55f1f2f3070541d2ab7fbba713556a63",
       "style": "IPY_MODEL_66e3b95f10144c50a65b6618f5808d52",
       "value": " 2/2 [00:00&lt;00:00,  2.76it/s]"
      }
     },
     "287ca7e6d9374a1fbaf2403e83f146db": {
      "model_module": "@jupyter-widgets/controls",
      "model_module_version": "2.0.0",
      "model_name": "FloatProgressModel",
      "state": {
       "bar_style": "success",
       "layout": "IPY_MODEL_43d2438f2f724350b04190e6a12b1140",
       "max": 2,
       "style": "IPY_MODEL_f4d36661698d4b60b11dbc887aa4cf0e",
       "value": 2
      }
     },
     "28b89afa445f45d0b1976a19bb752aec": {
      "model_module": "@jupyter-widgets/controls",
      "model_module_version": "2.0.0",
      "model_name": "HTMLStyleModel",
      "state": {
       "description_width": "",
       "font_size": null,
       "text_color": null
      }
     },
     "2ac7fd949efb4d8a980fd792e87dec73": {
      "model_module": "@jupyter-widgets/base",
      "model_module_version": "2.0.0",
      "model_name": "LayoutModel",
      "state": {}
     },
     "2cebdee4521f42c19e69bc8bbf8cc5be": {
      "model_module": "@jupyter-widgets/controls",
      "model_module_version": "2.0.0",
      "model_name": "HTMLStyleModel",
      "state": {
       "description_width": "",
       "font_size": null,
       "text_color": null
      }
     },
     "2fd980d3065446d584cdcf821b3e5db8": {
      "model_module": "@jupyter-widgets/controls",
      "model_module_version": "2.0.0",
      "model_name": "ProgressStyleModel",
      "state": {
       "description_width": ""
      }
     },
     "35a2833b93584895ba62138169dec191": {
      "model_module": "@jupyter-widgets/controls",
      "model_module_version": "2.0.0",
      "model_name": "FloatProgressModel",
      "state": {
       "bar_style": "success",
       "layout": "IPY_MODEL_c3375ab170ad45389ed881ca5ac5c1f7",
       "max": 2,
       "style": "IPY_MODEL_4b1a901f47004358aef6b934836ced30",
       "value": 2
      }
     },
     "35afea36bece46cb91551c0b87aaac90": {
      "model_module": "@jupyter-widgets/controls",
      "model_module_version": "2.0.0",
      "model_name": "HTMLStyleModel",
      "state": {
       "description_width": "",
       "font_size": null,
       "text_color": null
      }
     },
     "386b63d101d241da8f6c4e065d2346cd": {
      "model_module": "@jupyter-widgets/controls",
      "model_module_version": "2.0.0",
      "model_name": "HTMLModel",
      "state": {
       "layout": "IPY_MODEL_aa86cd23fd474e94abdd395eb2ddc87e",
       "style": "IPY_MODEL_35afea36bece46cb91551c0b87aaac90",
       "value": " 2/2 [00:01&lt;00:00,  2.04it/s]"
      }
     },
     "39baf53f47b2438cb57b59911de34e98": {
      "model_module": "@jupyter-widgets/controls",
      "model_module_version": "2.0.0",
      "model_name": "HTMLStyleModel",
      "state": {
       "description_width": "",
       "font_size": null,
       "text_color": null
      }
     },
     "3c798c97c2ea407596c4a257b9ed8913": {
      "model_module": "@jupyter-widgets/controls",
      "model_module_version": "2.0.0",
      "model_name": "HTMLStyleModel",
      "state": {
       "description_width": "",
       "font_size": null,
       "text_color": null
      }
     },
     "3cc5140f921a4c18bb40d963385426b1": {
      "model_module": "@jupyter-widgets/controls",
      "model_module_version": "2.0.0",
      "model_name": "HTMLStyleModel",
      "state": {
       "description_width": "",
       "font_size": null,
       "text_color": null
      }
     },
     "3e096a26d3c249a1a571067028da401f": {
      "model_module": "@jupyter-widgets/controls",
      "model_module_version": "2.0.0",
      "model_name": "ProgressStyleModel",
      "state": {
       "description_width": ""
      }
     },
     "3e40eceed3924a539ed6828495a655f8": {
      "model_module": "@jupyter-widgets/controls",
      "model_module_version": "2.0.0",
      "model_name": "HTMLModel",
      "state": {
       "layout": "IPY_MODEL_13ac510c0b0e4672a1e6ac5cf1daff75",
       "style": "IPY_MODEL_39baf53f47b2438cb57b59911de34e98",
       "value": "Loading checkpoint shards: 100%"
      }
     },
     "43a357f39a7e4d16944c9f7eb8b7233f": {
      "model_module": "@jupyter-widgets/controls",
      "model_module_version": "2.0.0",
      "model_name": "FloatProgressModel",
      "state": {
       "bar_style": "success",
       "layout": "IPY_MODEL_77a739a01d3344dd967f0c7f876711b2",
       "max": 2,
       "style": "IPY_MODEL_94752ea9bbd94c71bda2dd9424ec6155",
       "value": 2
      }
     },
     "43d2438f2f724350b04190e6a12b1140": {
      "model_module": "@jupyter-widgets/base",
      "model_module_version": "2.0.0",
      "model_name": "LayoutModel",
      "state": {}
     },
     "470af09b92e647bd8ddff619e28a298a": {
      "model_module": "@jupyter-widgets/controls",
      "model_module_version": "2.0.0",
      "model_name": "HTMLModel",
      "state": {
       "layout": "IPY_MODEL_bd3ba4ca918b451dbfca4d0dfad76917",
       "style": "IPY_MODEL_b0a2beb7daa1413ca04a6e8b3a703425",
       "value": " 2/2 [00:00&lt;00:00,  2.35it/s]"
      }
     },
     "473fbd45ba664cf08bfe2519bd12f2e3": {
      "model_module": "@jupyter-widgets/controls",
      "model_module_version": "2.0.0",
      "model_name": "HTMLStyleModel",
      "state": {
       "description_width": "",
       "font_size": null,
       "text_color": null
      }
     },
     "4b1a901f47004358aef6b934836ced30": {
      "model_module": "@jupyter-widgets/controls",
      "model_module_version": "2.0.0",
      "model_name": "ProgressStyleModel",
      "state": {
       "description_width": ""
      }
     },
     "523b8203e1b34809a66c43cc66d65fff": {
      "model_module": "@jupyter-widgets/base",
      "model_module_version": "2.0.0",
      "model_name": "LayoutModel",
      "state": {}
     },
     "52b5b527cb62494d84ab9ddf2d2cc4f1": {
      "model_module": "@jupyter-widgets/controls",
      "model_module_version": "2.0.0",
      "model_name": "FloatProgressModel",
      "state": {
       "bar_style": "success",
       "layout": "IPY_MODEL_5da87b1f19764b08bfae5b5329942c30",
       "max": 2,
       "style": "IPY_MODEL_88bc0774d9f346ec817017795ba7bec6",
       "value": 2
      }
     },
     "55f1f2f3070541d2ab7fbba713556a63": {
      "model_module": "@jupyter-widgets/base",
      "model_module_version": "2.0.0",
      "model_name": "LayoutModel",
      "state": {}
     },
     "59eae2edfaf74c67bb17fa8368989c8a": {
      "model_module": "@jupyter-widgets/base",
      "model_module_version": "2.0.0",
      "model_name": "LayoutModel",
      "state": {}
     },
     "5adba31d81ae47deba44ce3870a15dc2": {
      "model_module": "@jupyter-widgets/base",
      "model_module_version": "2.0.0",
      "model_name": "LayoutModel",
      "state": {}
     },
     "5b2b55a79ed74d98a10b0e8b5b719080": {
      "model_module": "@jupyter-widgets/base",
      "model_module_version": "2.0.0",
      "model_name": "LayoutModel",
      "state": {}
     },
     "5d7cccfe03b24e0396b111c05a6d7bba": {
      "model_module": "@jupyter-widgets/controls",
      "model_module_version": "2.0.0",
      "model_name": "HBoxModel",
      "state": {
       "children": [
        "IPY_MODEL_f6ff7deda088458898b40e10b8551e16",
        "IPY_MODEL_95d85f472dd8419dbc51b8d0006dd329",
        "IPY_MODEL_386b63d101d241da8f6c4e065d2346cd"
       ],
       "layout": "IPY_MODEL_6e35027f564049388012875a23fc2540"
      }
     },
     "5da87b1f19764b08bfae5b5329942c30": {
      "model_module": "@jupyter-widgets/base",
      "model_module_version": "2.0.0",
      "model_name": "LayoutModel",
      "state": {}
     },
     "5f51dbb190f24b9999ec826901d8f1e2": {
      "model_module": "@jupyter-widgets/base",
      "model_module_version": "2.0.0",
      "model_name": "LayoutModel",
      "state": {}
     },
     "6531eb9bbf11434a94b3f010d244d74f": {
      "model_module": "@jupyter-widgets/controls",
      "model_module_version": "2.0.0",
      "model_name": "HTMLModel",
      "state": {
       "layout": "IPY_MODEL_e75ad2e7cfc24a56898f12feaaabb2bd",
       "style": "IPY_MODEL_957634cdf68d446189af3d3382ed0d53",
       "value": " 2/2 [00:00&lt;00:00,  2.79it/s]"
      }
     },
     "6667d9b7b4074ad8adabc9bcf2557cfb": {
      "model_module": "@jupyter-widgets/base",
      "model_module_version": "2.0.0",
      "model_name": "LayoutModel",
      "state": {}
     },
     "66e3b95f10144c50a65b6618f5808d52": {
      "model_module": "@jupyter-widgets/controls",
      "model_module_version": "2.0.0",
      "model_name": "HTMLStyleModel",
      "state": {
       "description_width": "",
       "font_size": null,
       "text_color": null
      }
     },
     "6791b1c4c13f4990a7b6dd8bd22169b8": {
      "model_module": "@jupyter-widgets/base",
      "model_module_version": "2.0.0",
      "model_name": "LayoutModel",
      "state": {}
     },
     "6c74d1bb03a44edea1dc7c5be04a8ec0": {
      "model_module": "@jupyter-widgets/controls",
      "model_module_version": "2.0.0",
      "model_name": "HTMLModel",
      "state": {
       "layout": "IPY_MODEL_9dd633607a124c499217d0825c2ffc98",
       "style": "IPY_MODEL_8f992698d15b4efb820e9aef4171cc59",
       "value": " 2/2 [00:00&lt;00:00,  2.69it/s]"
      }
     },
     "6cde53eb58044aafaa11c1458859bd2f": {
      "model_module": "@jupyter-widgets/controls",
      "model_module_version": "2.0.0",
      "model_name": "HBoxModel",
      "state": {
       "children": [
        "IPY_MODEL_1a44265cd5da460383b21e0e067f4971",
        "IPY_MODEL_048b47d409374205b64e3cf811582eaf",
        "IPY_MODEL_6c74d1bb03a44edea1dc7c5be04a8ec0"
       ],
       "layout": "IPY_MODEL_a743b9cf61914dd5adc10e69f54ea43c"
      }
     },
     "6d0cb9fd435749739a25eaf79c4832b0": {
      "model_module": "@jupyter-widgets/controls",
      "model_module_version": "2.0.0",
      "model_name": "HTMLModel",
      "state": {
       "layout": "IPY_MODEL_e55ac6b6e6a8459e868b85823265ad90",
       "style": "IPY_MODEL_7ff688b40dae4943b209c8a257b34357",
       "value": "Loading checkpoint shards: 100%"
      }
     },
     "6e35027f564049388012875a23fc2540": {
      "model_module": "@jupyter-widgets/base",
      "model_module_version": "2.0.0",
      "model_name": "LayoutModel",
      "state": {}
     },
     "77a739a01d3344dd967f0c7f876711b2": {
      "model_module": "@jupyter-widgets/base",
      "model_module_version": "2.0.0",
      "model_name": "LayoutModel",
      "state": {}
     },
     "7c32ac81b6a74e2daf399253907460ae": {
      "model_module": "@jupyter-widgets/controls",
      "model_module_version": "2.0.0",
      "model_name": "HTMLModel",
      "state": {
       "layout": "IPY_MODEL_d1555d83deb548078fa631656b31b7c2",
       "style": "IPY_MODEL_e4904b33835f48a7b9085e26dc3f1f0d",
       "value": "Loading checkpoint shards: 100%"
      }
     },
     "7f468ea2a4a24213bb7403c8326cd088": {
      "model_module": "@jupyter-widgets/base",
      "model_module_version": "2.0.0",
      "model_name": "LayoutModel",
      "state": {}
     },
     "7ff688b40dae4943b209c8a257b34357": {
      "model_module": "@jupyter-widgets/controls",
      "model_module_version": "2.0.0",
      "model_name": "HTMLStyleModel",
      "state": {
       "description_width": "",
       "font_size": null,
       "text_color": null
      }
     },
     "837c46be6c5d492a881e0853d0281942": {
      "model_module": "@jupyter-widgets/base",
      "model_module_version": "2.0.0",
      "model_name": "LayoutModel",
      "state": {}
     },
     "88bc0774d9f346ec817017795ba7bec6": {
      "model_module": "@jupyter-widgets/controls",
      "model_module_version": "2.0.0",
      "model_name": "ProgressStyleModel",
      "state": {
       "description_width": ""
      }
     },
     "8934d2558c2345ce85f7188ade10a325": {
      "model_module": "@jupyter-widgets/controls",
      "model_module_version": "2.0.0",
      "model_name": "HTMLModel",
      "state": {
       "layout": "IPY_MODEL_523b8203e1b34809a66c43cc66d65fff",
       "style": "IPY_MODEL_db7c78df44c54b25bf1fb225e9be48b0",
       "value": " 2/2 [00:00&lt;00:00,  2.62it/s]"
      }
     },
     "8f503721260140aeb0b0271ea91e4642": {
      "model_module": "@jupyter-widgets/controls",
      "model_module_version": "2.0.0",
      "model_name": "FloatProgressModel",
      "state": {
       "bar_style": "success",
       "layout": "IPY_MODEL_d615c6f167fd4097b279b830da2639e2",
       "max": 2,
       "style": "IPY_MODEL_2fd980d3065446d584cdcf821b3e5db8",
       "value": 2
      }
     },
     "8f992698d15b4efb820e9aef4171cc59": {
      "model_module": "@jupyter-widgets/controls",
      "model_module_version": "2.0.0",
      "model_name": "HTMLStyleModel",
      "state": {
       "description_width": "",
       "font_size": null,
       "text_color": null
      }
     },
     "9064c0d467674e138db038ea5cea37b1": {
      "model_module": "@jupyter-widgets/controls",
      "model_module_version": "2.0.0",
      "model_name": "HTMLStyleModel",
      "state": {
       "description_width": "",
       "font_size": null,
       "text_color": null
      }
     },
     "94752ea9bbd94c71bda2dd9424ec6155": {
      "model_module": "@jupyter-widgets/controls",
      "model_module_version": "2.0.0",
      "model_name": "ProgressStyleModel",
      "state": {
       "description_width": ""
      }
     },
     "957634cdf68d446189af3d3382ed0d53": {
      "model_module": "@jupyter-widgets/controls",
      "model_module_version": "2.0.0",
      "model_name": "HTMLStyleModel",
      "state": {
       "description_width": "",
       "font_size": null,
       "text_color": null
      }
     },
     "95d85f472dd8419dbc51b8d0006dd329": {
      "model_module": "@jupyter-widgets/controls",
      "model_module_version": "2.0.0",
      "model_name": "FloatProgressModel",
      "state": {
       "bar_style": "success",
       "layout": "IPY_MODEL_5b2b55a79ed74d98a10b0e8b5b719080",
       "max": 2,
       "style": "IPY_MODEL_3e096a26d3c249a1a571067028da401f",
       "value": 2
      }
     },
     "999257e107894dd2867e88d7805c72a7": {
      "model_module": "@jupyter-widgets/controls",
      "model_module_version": "2.0.0",
      "model_name": "HTMLModel",
      "state": {
       "layout": "IPY_MODEL_c1b9196d9986454584fc57a938dd5db8",
       "style": "IPY_MODEL_473fbd45ba664cf08bfe2519bd12f2e3",
       "value": "Loading checkpoint shards: 100%"
      }
     },
     "9dd633607a124c499217d0825c2ffc98": {
      "model_module": "@jupyter-widgets/base",
      "model_module_version": "2.0.0",
      "model_name": "LayoutModel",
      "state": {}
     },
     "a743b9cf61914dd5adc10e69f54ea43c": {
      "model_module": "@jupyter-widgets/base",
      "model_module_version": "2.0.0",
      "model_name": "LayoutModel",
      "state": {}
     },
     "a8a862b4f29147b0aeb716e609ed326c": {
      "model_module": "@jupyter-widgets/base",
      "model_module_version": "2.0.0",
      "model_name": "LayoutModel",
      "state": {}
     },
     "aa86cd23fd474e94abdd395eb2ddc87e": {
      "model_module": "@jupyter-widgets/base",
      "model_module_version": "2.0.0",
      "model_name": "LayoutModel",
      "state": {}
     },
     "ada03957ca6b4de492317261e6bfb976": {
      "model_module": "@jupyter-widgets/controls",
      "model_module_version": "2.0.0",
      "model_name": "FloatProgressModel",
      "state": {
       "bar_style": "success",
       "layout": "IPY_MODEL_d3e11d5b5f0c4b69b9832e1bce523eae",
       "max": 2,
       "style": "IPY_MODEL_1c3f19a9a3ab490c8e8c43f84d52348b",
       "value": 2
      }
     },
     "b0a2beb7daa1413ca04a6e8b3a703425": {
      "model_module": "@jupyter-widgets/controls",
      "model_module_version": "2.0.0",
      "model_name": "HTMLStyleModel",
      "state": {
       "description_width": "",
       "font_size": null,
       "text_color": null
      }
     },
     "ba61c3a7ea294d28950dcc659f612411": {
      "model_module": "@jupyter-widgets/controls",
      "model_module_version": "2.0.0",
      "model_name": "ProgressStyleModel",
      "state": {
       "description_width": ""
      }
     },
     "bd3ba4ca918b451dbfca4d0dfad76917": {
      "model_module": "@jupyter-widgets/base",
      "model_module_version": "2.0.0",
      "model_name": "LayoutModel",
      "state": {}
     },
     "c1b9196d9986454584fc57a938dd5db8": {
      "model_module": "@jupyter-widgets/base",
      "model_module_version": "2.0.0",
      "model_name": "LayoutModel",
      "state": {}
     },
     "c3375ab170ad45389ed881ca5ac5c1f7": {
      "model_module": "@jupyter-widgets/base",
      "model_module_version": "2.0.0",
      "model_name": "LayoutModel",
      "state": {}
     },
     "c6cd417e69ee444f9f7911edfcb37acf": {
      "model_module": "@jupyter-widgets/controls",
      "model_module_version": "2.0.0",
      "model_name": "HBoxModel",
      "state": {
       "children": [
        "IPY_MODEL_cab41994bbc1499fb5cadbcee91ea51b",
        "IPY_MODEL_35a2833b93584895ba62138169dec191",
        "IPY_MODEL_dd453315055649f5a6185f8aa18bd9d4"
       ],
       "layout": "IPY_MODEL_837c46be6c5d492a881e0853d0281942"
      }
     },
     "ca88ac9672824f6aa1b192f1bbc403d1": {
      "model_module": "@jupyter-widgets/controls",
      "model_module_version": "2.0.0",
      "model_name": "HBoxModel",
      "state": {
       "children": [
        "IPY_MODEL_7c32ac81b6a74e2daf399253907460ae",
        "IPY_MODEL_52b5b527cb62494d84ab9ddf2d2cc4f1",
        "IPY_MODEL_8934d2558c2345ce85f7188ade10a325"
       ],
       "layout": "IPY_MODEL_ed96aad6e4dc4e1bac6a060871812271"
      }
     },
     "cab41994bbc1499fb5cadbcee91ea51b": {
      "model_module": "@jupyter-widgets/controls",
      "model_module_version": "2.0.0",
      "model_name": "HTMLModel",
      "state": {
       "layout": "IPY_MODEL_6791b1c4c13f4990a7b6dd8bd22169b8",
       "style": "IPY_MODEL_3c798c97c2ea407596c4a257b9ed8913",
       "value": "Loading checkpoint shards: 100%"
      }
     },
     "cbbdaa4d4ffb45b99f7daf04c5bcae1a": {
      "model_module": "@jupyter-widgets/controls",
      "model_module_version": "2.0.0",
      "model_name": "HBoxModel",
      "state": {
       "children": [
        "IPY_MODEL_3e40eceed3924a539ed6828495a655f8",
        "IPY_MODEL_43a357f39a7e4d16944c9f7eb8b7233f",
        "IPY_MODEL_6531eb9bbf11434a94b3f010d244d74f"
       ],
       "layout": "IPY_MODEL_2ac7fd949efb4d8a980fd792e87dec73"
      }
     },
     "d1555d83deb548078fa631656b31b7c2": {
      "model_module": "@jupyter-widgets/base",
      "model_module_version": "2.0.0",
      "model_name": "LayoutModel",
      "state": {}
     },
     "d3e11d5b5f0c4b69b9832e1bce523eae": {
      "model_module": "@jupyter-widgets/base",
      "model_module_version": "2.0.0",
      "model_name": "LayoutModel",
      "state": {}
     },
     "d615c6f167fd4097b279b830da2639e2": {
      "model_module": "@jupyter-widgets/base",
      "model_module_version": "2.0.0",
      "model_name": "LayoutModel",
      "state": {}
     },
     "d7037b5db9da4e4d91267870f25c392f": {
      "model_module": "@jupyter-widgets/controls",
      "model_module_version": "2.0.0",
      "model_name": "HTMLModel",
      "state": {
       "layout": "IPY_MODEL_1d4e54019d7d4112b4345b503d0a23f1",
       "style": "IPY_MODEL_daae7039d142476d84e783227154075b",
       "value": " 2/2 [00:00&lt;00:00,  2.71it/s]"
      }
     },
     "daae7039d142476d84e783227154075b": {
      "model_module": "@jupyter-widgets/controls",
      "model_module_version": "2.0.0",
      "model_name": "HTMLStyleModel",
      "state": {
       "description_width": "",
       "font_size": null,
       "text_color": null
      }
     },
     "db7c78df44c54b25bf1fb225e9be48b0": {
      "model_module": "@jupyter-widgets/controls",
      "model_module_version": "2.0.0",
      "model_name": "HTMLStyleModel",
      "state": {
       "description_width": "",
       "font_size": null,
       "text_color": null
      }
     },
     "dd453315055649f5a6185f8aa18bd9d4": {
      "model_module": "@jupyter-widgets/controls",
      "model_module_version": "2.0.0",
      "model_name": "HTMLModel",
      "state": {
       "layout": "IPY_MODEL_1c31c3da8db44c53bea8f5300db46928",
       "style": "IPY_MODEL_9064c0d467674e138db038ea5cea37b1",
       "value": " 2/2 [00:00&lt;00:00,  2.68it/s]"
      }
     },
     "e4904b33835f48a7b9085e26dc3f1f0d": {
      "model_module": "@jupyter-widgets/controls",
      "model_module_version": "2.0.0",
      "model_name": "HTMLStyleModel",
      "state": {
       "description_width": "",
       "font_size": null,
       "text_color": null
      }
     },
     "e55ac6b6e6a8459e868b85823265ad90": {
      "model_module": "@jupyter-widgets/base",
      "model_module_version": "2.0.0",
      "model_name": "LayoutModel",
      "state": {}
     },
     "e75ad2e7cfc24a56898f12feaaabb2bd": {
      "model_module": "@jupyter-widgets/base",
      "model_module_version": "2.0.0",
      "model_name": "LayoutModel",
      "state": {}
     },
     "e8c74058fcbc4600a7108a256d173654": {
      "model_module": "@jupyter-widgets/controls",
      "model_module_version": "2.0.0",
      "model_name": "HBoxModel",
      "state": {
       "children": [
        "IPY_MODEL_156ebd76e92a4ddda5cc4b37040c89cb",
        "IPY_MODEL_287ca7e6d9374a1fbaf2403e83f146db",
        "IPY_MODEL_470af09b92e647bd8ddff619e28a298a"
       ],
       "layout": "IPY_MODEL_5adba31d81ae47deba44ce3870a15dc2"
      }
     },
     "eceb375c2f974f72a3b1021f98b7c567": {
      "model_module": "@jupyter-widgets/base",
      "model_module_version": "2.0.0",
      "model_name": "LayoutModel",
      "state": {}
     },
     "ed96aad6e4dc4e1bac6a060871812271": {
      "model_module": "@jupyter-widgets/base",
      "model_module_version": "2.0.0",
      "model_name": "LayoutModel",
      "state": {}
     },
     "f4d36661698d4b60b11dbc887aa4cf0e": {
      "model_module": "@jupyter-widgets/controls",
      "model_module_version": "2.0.0",
      "model_name": "ProgressStyleModel",
      "state": {
       "description_width": ""
      }
     },
     "f6ff7deda088458898b40e10b8551e16": {
      "model_module": "@jupyter-widgets/controls",
      "model_module_version": "2.0.0",
      "model_name": "HTMLModel",
      "state": {
       "layout": "IPY_MODEL_5f51dbb190f24b9999ec826901d8f1e2",
       "style": "IPY_MODEL_28b89afa445f45d0b1976a19bb752aec",
       "value": "Loading checkpoint shards: 100%"
      }
     },
     "fa9d1b68d79e48baac929f87931576e7": {
      "model_module": "@jupyter-widgets/controls",
      "model_module_version": "2.0.0",
      "model_name": "HBoxModel",
      "state": {
       "children": [
        "IPY_MODEL_6d0cb9fd435749739a25eaf79c4832b0",
        "IPY_MODEL_8f503721260140aeb0b0271ea91e4642",
        "IPY_MODEL_d7037b5db9da4e4d91267870f25c392f"
       ],
       "layout": "IPY_MODEL_eceb375c2f974f72a3b1021f98b7c567"
      }
     }
    },
    "version_major": 2,
    "version_minor": 0
   }
  }
 },
 "nbformat": 4,
 "nbformat_minor": 5
}
