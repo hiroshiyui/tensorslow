{
 "cells": [
  {
   "cell_type": "code",
   "execution_count": 2,
   "id": "38e97b19-ec2d-458d-933c-f51379c69aba",
   "metadata": {
    "editable": true,
    "execution": {
     "iopub.execute_input": "2025-03-13T04:59:18.464151Z",
     "iopub.status.busy": "2025-03-13T04:59:18.463586Z",
     "iopub.status.idle": "2025-03-13T04:59:22.287716Z",
     "shell.execute_reply": "2025-03-13T04:59:22.287201Z",
     "shell.execute_reply.started": "2025-03-13T04:59:18.464124Z"
    },
    "slideshow": {
     "slide_type": ""
    },
    "tags": []
   },
   "outputs": [
    {
     "data": {
      "application/vnd.jupyter.widget-view+json": {
       "model_id": "bcd111afa1c341339fe5efa39ebb80e7",
       "version_major": 2,
       "version_minor": 0
      },
      "text/plain": [
       "Loading checkpoint shards:   0%|          | 0/2 [00:00<?, ?it/s]"
      ]
     },
     "metadata": {},
     "output_type": "display_data"
    }
   ],
   "source": [
    "from transformers import AutoModel, AutoTokenizer\n",
    "from transformers import GenerationConfig\n",
    "import torch\n",
    "from mtkresearch.llm.prompt import MRPromptV3\n",
    "import pprint\n",
    "\n",
    "# model_params_size: either '3B' or '8B'\n",
    "model_params_size = '3B'\n",
    "model_id = f\"MediaTek-Research/Llama-Breeze2-{model_params_size}-Instruct-v0_1\"\n",
    "model = AutoModel.from_pretrained(\n",
    "    model_id,\n",
    "    torch_dtype=torch.bfloat16,\n",
    "    low_cpu_mem_usage=True,\n",
    "    trust_remote_code=True,\n",
    "    device_map='auto',\n",
    "    img_context_token_id=128212\n",
    ").eval()\n",
    "\n",
    "tokenizer = AutoTokenizer.from_pretrained(model_id, trust_remote_code=True, use_fast=False)\n",
    "\n",
    "generation_config = GenerationConfig(\n",
    "  max_new_tokens=2048,\n",
    "  do_sample=True,\n",
    "  temperature=0.01,\n",
    "  top_p=0.01,\n",
    "  repetition_penalty=1.1,\n",
    "  eos_token_id=128009\n",
    ")\n",
    "\n",
    "prompt_engine = MRPromptV3()\n",
    "\n",
    "sys_prompt = 'You are a helpful AI assistant built by MediaTek Research. The user you are helping speaks Traditional Chinese and comes from Taiwan.'\n",
    "\n",
    "def _inference(tokenizer, model, generation_config, prompt, pixel_values=None):\n",
    "    inputs = tokenizer(prompt, return_tensors=\"pt\").to(model.device)\n",
    "    if pixel_values is None:\n",
    "        output_tensors = model.generate(**inputs, generation_config=generation_config)\n",
    "    else:\n",
    "        output_tensors = model.generate(**inputs, generation_config=generation_config, pixel_values=pixel_values.to(model.dtype))\n",
    "    output_str = tokenizer.decode(output_tensors[0])\n",
    "    return output_str"
   ]
  },
  {
   "cell_type": "code",
   "execution_count": 3,
   "id": "26499636-fec7-4d24-8fc1-e4ccb6e3f4b5",
   "metadata": {
    "editable": true,
    "execution": {
     "iopub.execute_input": "2025-03-13T04:59:27.152627Z",
     "iopub.status.busy": "2025-03-13T04:59:27.152368Z",
     "iopub.status.idle": "2025-03-13T05:00:57.624245Z",
     "shell.execute_reply": "2025-03-13T05:00:57.623858Z",
     "shell.execute_reply.started": "2025-03-13T04:59:27.152612Z"
    },
    "slideshow": {
     "slide_type": ""
    },
    "tags": []
   },
   "outputs": [
    {
     "name": "stderr",
     "output_type": "stream",
     "text": [
      "Setting `pad_token_id` to `eos_token_id`:128009 for open-end generation.\n"
     ]
    },
    {
     "name": "stdout",
     "output_type": "stream",
     "text": [
      "{'role': 'assistant',\n",
      " 'content': '珍珠奶茶，又稱為珍珠奶綠，是一種流行於臺灣的飲料。它由紅茶、牛奶或豆漿以及加入黑糖熬煮而成的珍珠組合而成。\\n'\n",
      "            '\\n'\n",
      "            '1. 材料：\\n'\n",
      "            '- 紅茶\\n'\n",
      "            '- 牛奶（可選）\\n'\n",
      "            '- 豆漿（可選）\\n'\n",
      "            '- 黑糖水\\n'\n",
      "            '- 珍珠\\n'\n",
      "            '\\n'\n",
      "            '2. 做法：\\n'\n",
      "            'a. 準備一個鍋子，將黑糖水加熱至沸騰。\\n'\n",
      "            'b. 在另一個碗中混合紅茶和牛奶/豆漿。\\n'\n",
      "            'c. 將沸騰的黑糖水倒入紅茶中攪拌均勻。\\n'\n",
      "            'd. 如果需要，可以根據個人喜好添加冰塊。\\n'\n",
      "            'e. 最後，將珍珠放入並攪拌均勻即可享用。\\n'\n",
      "            '\\n'\n",
      "            '3. 飲用方式：\\n'\n",
      "            '- 用吸管喝珍珠奶茶是最常見的方法。\\n'\n",
      "            '- 也可以使用湯匙來吃珍珠。\\n'\n",
      "            '\\n'\n",
      "            '4. 注意事項：\\n'\n",
      "            '- 適量食用，因為珍珠含有大量的卡路里。\\n'\n",
      "            '- 如果不習慣甜味，可以減少黑糖水的份量。\\n'\n",
      "            '\\n'\n",
      "            '5. 變化：\\n'\n",
      "            '- 可以嘗試不同的口味，如抹茶、巧克力或草莓等。\\n'\n",
      "            '- 也可以在紅茶中加入其他配料，如椰果或粉圓。\\n'\n",
      "            '\\n'\n",
      "            '6. 傳統與現代：\\n'\n",
      "            '- 珍珠奶茶起源於台灣夜市文化，並隨著時間發展成為全球受歡迎的飲品。\\n'\n",
      "            '- 現在，許多餐廳提供各種不同風格的珍珠奶茶，包括手工製作的珍珠和獨特的配料。\\n'\n",
      "            '\\n'\n",
      "            '總之，珍珠奶茶是一種美味且令人滿足的飲品，適合任何時候享用。'}\n"
     ]
    }
   ],
   "source": [
    "conversations = [\n",
    "    {\"role\": \"system\", \"content\": sys_prompt},\n",
    "    {\"role\": \"user\", \"content\": \"請幫我介紹珍珠奶茶\"},\n",
    "]\n",
    "\n",
    "prompt = prompt_engine.get_prompt(conversations)\n",
    "output_str = _inference(tokenizer, model, generation_config, prompt)\n",
    "result = prompt_engine.parse_generated_str(output_str)\n",
    "pprint.pp(result)"
   ]
  },
  {
   "cell_type": "code",
   "execution_count": null,
   "id": "5189091d-c0e5-4247-b9cb-725cc7e0046e",
   "metadata": {},
   "outputs": [],
   "source": []
  }
 ],
 "metadata": {
  "kernelspec": {
   "display_name": "Python 3 (ipykernel)",
   "language": "python",
   "name": "python3"
  },
  "language_info": {
   "codemirror_mode": {
    "name": "ipython",
    "version": 3
   },
   "file_extension": ".py",
   "mimetype": "text/x-python",
   "name": "python",
   "nbconvert_exporter": "python",
   "pygments_lexer": "ipython3",
   "version": "3.12.4"
  },
  "widgets": {
   "application/vnd.jupyter.widget-state+json": {
    "state": {
     "013d8f8ff6af4f9e89e7f1be2cfb6ce3": {
      "model_module": "@jupyter-widgets/controls",
      "model_module_version": "2.0.0",
      "model_name": "HTMLModel",
      "state": {
       "layout": "IPY_MODEL_3de136b24f954ca39b9b0e8d901edfb6",
       "style": "IPY_MODEL_cc9ffce70bd44947bd3556537d48d19a",
       "value": " 9.09M/9.09M [00:01&lt;00:00, 6.09MB/s]"
      }
     },
     "02070f968ca14ffab5b62653c0f71b2b": {
      "model_module": "@jupyter-widgets/controls",
      "model_module_version": "2.0.0",
      "model_name": "FloatProgressModel",
      "state": {
       "bar_style": "success",
       "layout": "IPY_MODEL_60433ab93e4345c9b0e03abd4cc781aa",
       "max": 9085494,
       "style": "IPY_MODEL_1f66204f217541719f50b1c5a4508bc0",
       "value": 9085494
      }
     },
     "04104367a8474175b3e571f4cc8e8bb5": {
      "model_module": "@jupyter-widgets/base",
      "model_module_version": "2.0.0",
      "model_name": "LayoutModel",
      "state": {}
     },
     "0660130c51064d2182835d5078f78d74": {
      "model_module": "@jupyter-widgets/controls",
      "model_module_version": "2.0.0",
      "model_name": "HTMLModel",
      "state": {
       "layout": "IPY_MODEL_9c0de967106740d382c4dc020541464d",
       "style": "IPY_MODEL_cec0435541b34e40b0ff6872b071b561",
       "value": "modeling_internvl_chat.py: 100%"
      }
     },
     "07ef6a75faef461797d491c8e873407a": {
      "model_module": "@jupyter-widgets/controls",
      "model_module_version": "2.0.0",
      "model_name": "HTMLModel",
      "state": {
       "layout": "IPY_MODEL_b9241e41ed864d27a2a272b67b81cd53",
       "style": "IPY_MODEL_a2b7f10e9d4f48a3891c65ad2ff92ed7",
       "value": "modeling_intern_vit.py: 100%"
      }
     },
     "0918e83e01b54590b0812d5e6f44c98d": {
      "model_module": "@jupyter-widgets/controls",
      "model_module_version": "2.0.0",
      "model_name": "HBoxModel",
      "state": {
       "children": [
        "IPY_MODEL_b52738d307c24c00b6c3708fee9369d9",
        "IPY_MODEL_4a86e90dbb3643e39b2c57a46016dc28",
        "IPY_MODEL_4c91f86c11134630a42443024e53ca05"
       ],
       "layout": "IPY_MODEL_b638bae483a7435b8a2e4c70eff128f2"
      }
     },
     "09cf38bae9044ccba495b0af92dbc00e": {
      "model_module": "@jupyter-widgets/controls",
      "model_module_version": "2.0.0",
      "model_name": "FloatProgressModel",
      "state": {
       "bar_style": "success",
       "layout": "IPY_MODEL_311d0a0652474084ae2166273fb50b1b",
       "max": 15828,
       "style": "IPY_MODEL_1be8bc8f77304832be63bf9401dc857b",
       "value": 15828
      }
     },
     "0a58b138c4db44f68a76abebadba41b5": {
      "model_module": "@jupyter-widgets/base",
      "model_module_version": "2.0.0",
      "model_name": "LayoutModel",
      "state": {}
     },
     "0a7bad9cde994de7a2abd5d60aa3dc5a": {
      "model_module": "@jupyter-widgets/base",
      "model_module_version": "2.0.0",
      "model_name": "LayoutModel",
      "state": {}
     },
     "0d2c248deb504b4a8ab9db88a2d48d6b": {
      "model_module": "@jupyter-widgets/controls",
      "model_module_version": "2.0.0",
      "model_name": "HTMLModel",
      "state": {
       "layout": "IPY_MODEL_3d6027b432aa4d2e92cce61f4a66985e",
       "style": "IPY_MODEL_294d7d4b0dc64d7395a7f1c9b0848fbd",
       "value": " 15.8k/15.8k [00:00&lt;00:00, 3.42MB/s]"
      }
     },
     "0ed8237f6af94da48f4c66594c40ac8d": {
      "model_module": "@jupyter-widgets/controls",
      "model_module_version": "2.0.0",
      "model_name": "ProgressStyleModel",
      "state": {
       "description_width": ""
      }
     },
     "0f2ba97b02eb48518ba9d82cb6fb7dc7": {
      "model_module": "@jupyter-widgets/controls",
      "model_module_version": "2.0.0",
      "model_name": "ProgressStyleModel",
      "state": {
       "description_width": ""
      }
     },
     "10eff95925584ff7b8cdfdee041965d0": {
      "model_module": "@jupyter-widgets/controls",
      "model_module_version": "2.0.0",
      "model_name": "FloatProgressModel",
      "state": {
       "bar_style": "success",
       "layout": "IPY_MODEL_7c15d55c7f2c414284e0a3479f734b2f",
       "max": 5750,
       "style": "IPY_MODEL_dde1504e4897452594403693fd50ad2c",
       "value": 5750
      }
     },
     "11bfb8d7885f4687aaefc3205f2e4f36": {
      "model_module": "@jupyter-widgets/controls",
      "model_module_version": "2.0.0",
      "model_name": "HTMLStyleModel",
      "state": {
       "description_width": "",
       "font_size": null,
       "text_color": null
      }
     },
     "126e96959f1e4cec9b748a8178c98c8b": {
      "model_module": "@jupyter-widgets/controls",
      "model_module_version": "2.0.0",
      "model_name": "HTMLModel",
      "state": {
       "layout": "IPY_MODEL_b4030d780cd54390897811bf00c848c4",
       "style": "IPY_MODEL_9ffddf259e5945c1991572aea0d1885d",
       "value": " 3.94k/3.94k [00:00&lt;00:00, 1.07MB/s]"
      }
     },
     "13bdc585c1ea4ecdab015b86070dea7f": {
      "model_module": "@jupyter-widgets/controls",
      "model_module_version": "2.0.0",
      "model_name": "HTMLModel",
      "state": {
       "layout": "IPY_MODEL_a78e8edca7324a07b307bffcee2843fd",
       "style": "IPY_MODEL_6547a2f438d3422a8a88f945d8adcd0b",
       "value": "Loading checkpoint shards: 100%"
      }
     },
     "15539693bb584dbeb6b2995a9547a253": {
      "model_module": "@jupyter-widgets/controls",
      "model_module_version": "2.0.0",
      "model_name": "ProgressStyleModel",
      "state": {
       "description_width": ""
      }
     },
     "163348b9ea564a5682d5942b544a0346": {
      "model_module": "@jupyter-widgets/controls",
      "model_module_version": "2.0.0",
      "model_name": "FloatProgressModel",
      "state": {
       "bar_style": "success",
       "layout": "IPY_MODEL_4389ccd9e3fd4df4aa121ffcdf821477",
       "max": 3940,
       "style": "IPY_MODEL_0ed8237f6af94da48f4c66594c40ac8d",
       "value": 3940
      }
     },
     "1784099c75244062a67f63d74b4c5594": {
      "model_module": "@jupyter-widgets/controls",
      "model_module_version": "2.0.0",
      "model_name": "HTMLModel",
      "state": {
       "layout": "IPY_MODEL_84bf7df6f1f54a09a37822349ce99333",
       "style": "IPY_MODEL_4aadba259b8c4acd9164666d69dc5347",
       "value": " 5.75k/5.75k [00:00&lt;00:00, 1.07MB/s]"
      }
     },
     "19c32a441e8d4dd880b9d8f5c87a0884": {
      "model_module": "@jupyter-widgets/controls",
      "model_module_version": "2.0.0",
      "model_name": "FloatProgressModel",
      "state": {
       "bar_style": "success",
       "layout": "IPY_MODEL_0a7bad9cde994de7a2abd5d60aa3dc5a",
       "max": 4969846232,
       "style": "IPY_MODEL_15539693bb584dbeb6b2995a9547a253",
       "value": 4969846232
      }
     },
     "1be8bc8f77304832be63bf9401dc857b": {
      "model_module": "@jupyter-widgets/controls",
      "model_module_version": "2.0.0",
      "model_name": "ProgressStyleModel",
      "state": {
       "description_width": ""
      }
     },
     "1dc395b533944126ae81cc8ef93e9ee9": {
      "model_module": "@jupyter-widgets/controls",
      "model_module_version": "2.0.0",
      "model_name": "HTMLStyleModel",
      "state": {
       "description_width": "",
       "font_size": null,
       "text_color": null
      }
     },
     "1f66204f217541719f50b1c5a4508bc0": {
      "model_module": "@jupyter-widgets/controls",
      "model_module_version": "2.0.0",
      "model_name": "ProgressStyleModel",
      "state": {
       "description_width": ""
      }
     },
     "229c0c1575d344fba52aa696a5c22173": {
      "model_module": "@jupyter-widgets/base",
      "model_module_version": "2.0.0",
      "model_name": "LayoutModel",
      "state": {}
     },
     "232144def26d4f7590a94042265183fa": {
      "model_module": "@jupyter-widgets/controls",
      "model_module_version": "2.0.0",
      "model_name": "HTMLModel",
      "state": {
       "layout": "IPY_MODEL_a56a2318c94e40b78d27a613145a2999",
       "style": "IPY_MODEL_ad9a197cd3fa4e848d12185236010535",
       "value": " 2/2 [00:00&lt;00:00,  3.55it/s]"
      }
     },
     "23ff3c0f2f5143b19a629412bfe594c7": {
      "model_module": "@jupyter-widgets/base",
      "model_module_version": "2.0.0",
      "model_name": "LayoutModel",
      "state": {}
     },
     "27a164a566934eaabd7b931374612ded": {
      "model_module": "@jupyter-widgets/base",
      "model_module_version": "2.0.0",
      "model_name": "LayoutModel",
      "state": {}
     },
     "284fcc72c1584998b2522d9e5e602466": {
      "model_module": "@jupyter-widgets/controls",
      "model_module_version": "2.0.0",
      "model_name": "HTMLModel",
      "state": {
       "layout": "IPY_MODEL_be39c767143548d0ad63b67feaab01a6",
       "style": "IPY_MODEL_7a96b8b0ae4a4816a058e600963d21c0",
       "value": " 2/2 [00:00&lt;00:00,  2.58it/s]"
      }
     },
     "28b7cc8bdc354c618e7e24b9703e3e7f": {
      "model_module": "@jupyter-widgets/controls",
      "model_module_version": "2.0.0",
      "model_name": "HTMLModel",
      "state": {
       "layout": "IPY_MODEL_5591c820922b4b15a1a7436a88e3b0ab",
       "style": "IPY_MODEL_873f655898654e7b9817d0940202bf2d",
       "value": " 54.4k/54.4k [00:00&lt;00:00, 8.67MB/s]"
      }
     },
     "294d7d4b0dc64d7395a7f1c9b0848fbd": {
      "model_module": "@jupyter-widgets/controls",
      "model_module_version": "2.0.0",
      "model_name": "HTMLStyleModel",
      "state": {
       "description_width": "",
       "font_size": null,
       "text_color": null
      }
     },
     "2b6025b83e0d4448acf9dc023e65de5c": {
      "model_module": "@jupyter-widgets/controls",
      "model_module_version": "2.0.0",
      "model_name": "HTMLModel",
      "state": {
       "layout": "IPY_MODEL_f43786b3d2194866ac5a1b552600f10c",
       "style": "IPY_MODEL_aff68e1586484308a72c2c4caf7d6a34",
       "value": " 69.0/69.0 [00:00&lt;00:00, 19.8kB/s]"
      }
     },
     "2c32f141e6da4993ad0e22b5fd18a172": {
      "model_module": "@jupyter-widgets/base",
      "model_module_version": "2.0.0",
      "model_name": "LayoutModel",
      "state": {}
     },
     "2cf777bde897400fa1abc869f80ef810": {
      "model_module": "@jupyter-widgets/controls",
      "model_module_version": "2.0.0",
      "model_name": "HTMLStyleModel",
      "state": {
       "description_width": "",
       "font_size": null,
       "text_color": null
      }
     },
     "2d59df57f48844069f2f03dc78b6a435": {
      "model_module": "@jupyter-widgets/base",
      "model_module_version": "2.0.0",
      "model_name": "LayoutModel",
      "state": {}
     },
     "2f6a5281e8d54b8f93e34ad8962746ad": {
      "model_module": "@jupyter-widgets/base",
      "model_module_version": "2.0.0",
      "model_name": "LayoutModel",
      "state": {}
     },
     "311d0a0652474084ae2166273fb50b1b": {
      "model_module": "@jupyter-widgets/base",
      "model_module_version": "2.0.0",
      "model_name": "LayoutModel",
      "state": {}
     },
     "318e2692947142ed9120271252661a0c": {
      "model_module": "@jupyter-widgets/base",
      "model_module_version": "2.0.0",
      "model_name": "LayoutModel",
      "state": {}
     },
     "36281120d978454e94bcb00ddd239c64": {
      "model_module": "@jupyter-widgets/controls",
      "model_module_version": "2.0.0",
      "model_name": "HTMLModel",
      "state": {
       "layout": "IPY_MODEL_6f78acb7b9e6436c97a0b7a35e8fd5ab",
       "style": "IPY_MODEL_f614f8c8404b4bc882eabc680db6734b",
       "value": " 18.1k/18.1k [00:00&lt;00:00, 4.89MB/s]"
      }
     },
     "36b90bbfd2534c898067db3178e16e11": {
      "model_module": "@jupyter-widgets/controls",
      "model_module_version": "2.0.0",
      "model_name": "HTMLModel",
      "state": {
       "layout": "IPY_MODEL_804afd3dd5de48a89da9e1e8254eb1d7",
       "style": "IPY_MODEL_3dedae2db9c04fe79297e59edc61b2a9",
       "value": "Downloading shards: 100%"
      }
     },
     "3821a6a463bd4f50a3c7c3c6cf35022d": {
      "model_module": "@jupyter-widgets/controls",
      "model_module_version": "2.0.0",
      "model_name": "HTMLModel",
      "state": {
       "layout": "IPY_MODEL_318e2692947142ed9120271252661a0c",
       "style": "IPY_MODEL_e661f11371b04dd08481dde53cc056b4",
       "value": "tokenizer.json: 100%"
      }
     },
     "39b2b72c3d934a539513f5de4eb82b6d": {
      "model_module": "@jupyter-widgets/controls",
      "model_module_version": "2.0.0",
      "model_name": "FloatProgressModel",
      "state": {
       "bar_style": "success",
       "layout": "IPY_MODEL_72ff8141ee0e4a2a9206d4723301993f",
       "max": 69,
       "style": "IPY_MODEL_0f2ba97b02eb48518ba9d82cb6fb7dc7",
       "value": 69
      }
     },
     "3a6080e7a9ba47679f7bc2b201401800": {
      "model_module": "@jupyter-widgets/base",
      "model_module_version": "2.0.0",
      "model_name": "LayoutModel",
      "state": {}
     },
     "3c9dea10d63744e8aba8decbab22fae6": {
      "model_module": "@jupyter-widgets/base",
      "model_module_version": "2.0.0",
      "model_name": "LayoutModel",
      "state": {}
     },
     "3d32e80243854fbf8d3db1255182a9b5": {
      "model_module": "@jupyter-widgets/controls",
      "model_module_version": "2.0.0",
      "model_name": "HBoxModel",
      "state": {
       "children": [
        "IPY_MODEL_4348604cdca84297819df38ee55f4add",
        "IPY_MODEL_f1ccead2f32a4b32af9b9c8e7faaf3f3",
        "IPY_MODEL_28b7cc8bdc354c618e7e24b9703e3e7f"
       ],
       "layout": "IPY_MODEL_2f6a5281e8d54b8f93e34ad8962746ad"
      }
     },
     "3d6027b432aa4d2e92cce61f4a66985e": {
      "model_module": "@jupyter-widgets/base",
      "model_module_version": "2.0.0",
      "model_name": "LayoutModel",
      "state": {}
     },
     "3de136b24f954ca39b9b0e8d901edfb6": {
      "model_module": "@jupyter-widgets/base",
      "model_module_version": "2.0.0",
      "model_name": "LayoutModel",
      "state": {}
     },
     "3dedae2db9c04fe79297e59edc61b2a9": {
      "model_module": "@jupyter-widgets/controls",
      "model_module_version": "2.0.0",
      "model_name": "HTMLStyleModel",
      "state": {
       "description_width": "",
       "font_size": null,
       "text_color": null
      }
     },
     "4348604cdca84297819df38ee55f4add": {
      "model_module": "@jupyter-widgets/controls",
      "model_module_version": "2.0.0",
      "model_name": "HTMLModel",
      "state": {
       "layout": "IPY_MODEL_f24c2e1272ca461e8449de85c5c4a9c1",
       "style": "IPY_MODEL_d7be6037584d41ac8550c6e3970c961b",
       "value": "tokenizer_config.json: 100%"
      }
     },
     "4389ccd9e3fd4df4aa121ffcdf821477": {
      "model_module": "@jupyter-widgets/base",
      "model_module_version": "2.0.0",
      "model_name": "LayoutModel",
      "state": {}
     },
     "43bd5b60b32e4497abe28ce21d43a4b9": {
      "model_module": "@jupyter-widgets/controls",
      "model_module_version": "2.0.0",
      "model_name": "ProgressStyleModel",
      "state": {
       "description_width": ""
      }
     },
     "4a86e90dbb3643e39b2c57a46016dc28": {
      "model_module": "@jupyter-widgets/controls",
      "model_module_version": "2.0.0",
      "model_name": "FloatProgressModel",
      "state": {
       "bar_style": "success",
       "layout": "IPY_MODEL_60bc325b1b95468fba7c93186f841b69",
       "max": 54385,
       "style": "IPY_MODEL_ffddf514553c45a78f07ab6872ebaf34",
       "value": 54385
      }
     },
     "4aadba259b8c4acd9164666d69dc5347": {
      "model_module": "@jupyter-widgets/controls",
      "model_module_version": "2.0.0",
      "model_name": "HTMLStyleModel",
      "state": {
       "description_width": "",
       "font_size": null,
       "text_color": null
      }
     },
     "4c91f86c11134630a42443024e53ca05": {
      "model_module": "@jupyter-widgets/controls",
      "model_module_version": "2.0.0",
      "model_name": "HTMLModel",
      "state": {
       "layout": "IPY_MODEL_6ae109ab0ea24d7fb7c53003b7f56d95",
       "style": "IPY_MODEL_bbebc14be4d24798a36720fdd27f1866",
       "value": " 54.4k/54.4k [00:09&lt;00:00, 5.75kB/s]"
      }
     },
     "4dbdd00fa362463ca4f5c59c95664b4d": {
      "model_module": "@jupyter-widgets/controls",
      "model_module_version": "2.0.0",
      "model_name": "HTMLModel",
      "state": {
       "layout": "IPY_MODEL_4e56edb3ef0d442290d09c5a06f993e0",
       "style": "IPY_MODEL_1dc395b533944126ae81cc8ef93e9ee9",
       "value": "config.json: 100%"
      }
     },
     "4e56edb3ef0d442290d09c5a06f993e0": {
      "model_module": "@jupyter-widgets/base",
      "model_module_version": "2.0.0",
      "model_name": "LayoutModel",
      "state": {}
     },
     "4eb2ed690d044257baec49a86e7eb1ea": {
      "model_module": "@jupyter-widgets/controls",
      "model_module_version": "2.0.0",
      "model_name": "HBoxModel",
      "state": {
       "children": [
        "IPY_MODEL_07ef6a75faef461797d491c8e873407a",
        "IPY_MODEL_e74150c4e2704435a3d6b609d732e2eb",
        "IPY_MODEL_36281120d978454e94bcb00ddd239c64"
       ],
       "layout": "IPY_MODEL_ad283754ad784829b95f545175a28241"
      }
     },
     "4feb58523bef45c78cb60f950ff6b9d7": {
      "model_module": "@jupyter-widgets/controls",
      "model_module_version": "2.0.0",
      "model_name": "ProgressStyleModel",
      "state": {
       "description_width": ""
      }
     },
     "52e24cfd0bbd4e34b94f568146ad4025": {
      "model_module": "@jupyter-widgets/base",
      "model_module_version": "2.0.0",
      "model_name": "LayoutModel",
      "state": {}
     },
     "53cef8054a9e4cc49a378b2d917acb72": {
      "model_module": "@jupyter-widgets/controls",
      "model_module_version": "2.0.0",
      "model_name": "HTMLModel",
      "state": {
       "layout": "IPY_MODEL_52e24cfd0bbd4e34b94f568146ad4025",
       "style": "IPY_MODEL_da731bb5cbfc4070ba87b0e29a2d92e0",
       "value": " 5.55k/5.55k [00:00&lt;00:00, 1.48MB/s]"
      }
     },
     "5591c820922b4b15a1a7436a88e3b0ab": {
      "model_module": "@jupyter-widgets/base",
      "model_module_version": "2.0.0",
      "model_name": "LayoutModel",
      "state": {}
     },
     "56a767c1a541413d9fd8049ea7ffaddf": {
      "model_module": "@jupyter-widgets/controls",
      "model_module_version": "2.0.0",
      "model_name": "HBoxModel",
      "state": {
       "children": [
        "IPY_MODEL_fbbec4f03f934db0bf00ce6ed1469933",
        "IPY_MODEL_ef7c349b75fa4554ac06c22cf706705b",
        "IPY_MODEL_c9acc4fb638346d2821305e8cd825a6a"
       ],
       "layout": "IPY_MODEL_5ca7ac535252433eac2b46387f525ad7"
      }
     },
     "58b84953ffe14c05b26a7ce07938ea77": {
      "model_module": "@jupyter-widgets/controls",
      "model_module_version": "2.0.0",
      "model_name": "HBoxModel",
      "state": {
       "children": [
        "IPY_MODEL_739e8e4df3f5405cb50c0ec463e4c855",
        "IPY_MODEL_163348b9ea564a5682d5942b544a0346",
        "IPY_MODEL_126e96959f1e4cec9b748a8178c98c8b"
       ],
       "layout": "IPY_MODEL_27a164a566934eaabd7b931374612ded"
      }
     },
     "5c9bff4eb1304207978f1a9bf68c579a": {
      "model_module": "@jupyter-widgets/controls",
      "model_module_version": "2.0.0",
      "model_name": "HTMLModel",
      "state": {
       "layout": "IPY_MODEL_fd76889951854041bf53d9897ef992c3",
       "style": "IPY_MODEL_2cf777bde897400fa1abc869f80ef810",
       "value": " 4.97G/4.97G [07:13&lt;00:00, 11.6MB/s]"
      }
     },
     "5ca7ac535252433eac2b46387f525ad7": {
      "model_module": "@jupyter-widgets/base",
      "model_module_version": "2.0.0",
      "model_name": "LayoutModel",
      "state": {}
     },
     "5cf6ccafba8d49d99fbc2748a5037024": {
      "model_module": "@jupyter-widgets/base",
      "model_module_version": "2.0.0",
      "model_name": "LayoutModel",
      "state": {}
     },
     "5d9d471da1064520a651c6256d6f5093": {
      "model_module": "@jupyter-widgets/base",
      "model_module_version": "2.0.0",
      "model_name": "LayoutModel",
      "state": {}
     },
     "60433ab93e4345c9b0e03abd4cc781aa": {
      "model_module": "@jupyter-widgets/base",
      "model_module_version": "2.0.0",
      "model_name": "LayoutModel",
      "state": {}
     },
     "60bc325b1b95468fba7c93186f841b69": {
      "model_module": "@jupyter-widgets/base",
      "model_module_version": "2.0.0",
      "model_name": "LayoutModel",
      "state": {}
     },
     "6171a49158c54046958c79602948260d": {
      "model_module": "@jupyter-widgets/base",
      "model_module_version": "2.0.0",
      "model_name": "LayoutModel",
      "state": {}
     },
     "6547a2f438d3422a8a88f945d8adcd0b": {
      "model_module": "@jupyter-widgets/controls",
      "model_module_version": "2.0.0",
      "model_name": "HTMLStyleModel",
      "state": {
       "description_width": "",
       "font_size": null,
       "text_color": null
      }
     },
     "6a26dd358e394a21a0a958a0752f4b71": {
      "model_module": "@jupyter-widgets/controls",
      "model_module_version": "2.0.0",
      "model_name": "HBoxModel",
      "state": {
       "children": [
        "IPY_MODEL_89247eac53ff4b1ba76072c26fc3251d",
        "IPY_MODEL_8249ce4de4a0499a9db81b0e9ac69c0a",
        "IPY_MODEL_232144def26d4f7590a94042265183fa"
       ],
       "layout": "IPY_MODEL_bb7f1ed01ebe4e17b376ab4262ff84c2"
      }
     },
     "6ae109ab0ea24d7fb7c53003b7f56d95": {
      "model_module": "@jupyter-widgets/base",
      "model_module_version": "2.0.0",
      "model_name": "LayoutModel",
      "state": {}
     },
     "6b0cb7dc045b4069be86b899cdb546bf": {
      "model_module": "@jupyter-widgets/controls",
      "model_module_version": "2.0.0",
      "model_name": "HTMLStyleModel",
      "state": {
       "description_width": "",
       "font_size": null,
       "text_color": null
      }
     },
     "6d53fd0684f04045ad09be90062318d0": {
      "model_module": "@jupyter-widgets/base",
      "model_module_version": "2.0.0",
      "model_name": "LayoutModel",
      "state": {}
     },
     "6ebfd05fb71d4d01bc5b02390e7d0f2c": {
      "model_module": "@jupyter-widgets/base",
      "model_module_version": "2.0.0",
      "model_name": "LayoutModel",
      "state": {}
     },
     "6f78acb7b9e6436c97a0b7a35e8fd5ab": {
      "model_module": "@jupyter-widgets/base",
      "model_module_version": "2.0.0",
      "model_name": "LayoutModel",
      "state": {}
     },
     "6ffe22afcef24947bf4c03fffa6d3a99": {
      "model_module": "@jupyter-widgets/controls",
      "model_module_version": "2.0.0",
      "model_name": "HBoxModel",
      "state": {
       "children": [
        "IPY_MODEL_36b90bbfd2534c898067db3178e16e11",
        "IPY_MODEL_b81b40dbaeb34053aec303762a709ac1",
        "IPY_MODEL_a0a74855e91c41c8ac5dfd66be80c9dc"
       ],
       "layout": "IPY_MODEL_f8a2e21ea50c4b4395cfc587d6d90f12"
      }
     },
     "72ff8141ee0e4a2a9206d4723301993f": {
      "model_module": "@jupyter-widgets/base",
      "model_module_version": "2.0.0",
      "model_name": "LayoutModel",
      "state": {}
     },
     "739e8e4df3f5405cb50c0ec463e4c855": {
      "model_module": "@jupyter-widgets/controls",
      "model_module_version": "2.0.0",
      "model_name": "HTMLModel",
      "state": {
       "layout": "IPY_MODEL_6171a49158c54046958c79602948260d",
       "style": "IPY_MODEL_776d06d0598c430aa8521d02842bc022",
       "value": "configuration_internvl_chat.py: 100%"
      }
     },
     "7720802bed354e76ac417b8909cd2438": {
      "model_module": "@jupyter-widgets/controls",
      "model_module_version": "2.0.0",
      "model_name": "FloatProgressModel",
      "state": {
       "bar_style": "success",
       "layout": "IPY_MODEL_3c9dea10d63744e8aba8decbab22fae6",
       "max": 5547,
       "style": "IPY_MODEL_c4fbb51225dd4e0c90637bd52f0daee3",
       "value": 5547
      }
     },
     "776d06d0598c430aa8521d02842bc022": {
      "model_module": "@jupyter-widgets/controls",
      "model_module_version": "2.0.0",
      "model_name": "HTMLStyleModel",
      "state": {
       "description_width": "",
       "font_size": null,
       "text_color": null
      }
     },
     "7a96b8b0ae4a4816a058e600963d21c0": {
      "model_module": "@jupyter-widgets/controls",
      "model_module_version": "2.0.0",
      "model_name": "HTMLStyleModel",
      "state": {
       "description_width": "",
       "font_size": null,
       "text_color": null
      }
     },
     "7c15d55c7f2c414284e0a3479f734b2f": {
      "model_module": "@jupyter-widgets/base",
      "model_module_version": "2.0.0",
      "model_name": "LayoutModel",
      "state": {}
     },
     "7c1ef283d792480bbf6826ac03c0663b": {
      "model_module": "@jupyter-widgets/controls",
      "model_module_version": "2.0.0",
      "model_name": "HTMLModel",
      "state": {
       "layout": "IPY_MODEL_c3bcda6046144256b1bf251aeead9b7c",
       "style": "IPY_MODEL_cab0e49ed6874ac0b53ad1778a49eeb6",
       "value": " 2.90G/2.90G [04:13&lt;00:00, 11.2MB/s]"
      }
     },
     "804afd3dd5de48a89da9e1e8254eb1d7": {
      "model_module": "@jupyter-widgets/base",
      "model_module_version": "2.0.0",
      "model_name": "LayoutModel",
      "state": {}
     },
     "8249ce4de4a0499a9db81b0e9ac69c0a": {
      "model_module": "@jupyter-widgets/controls",
      "model_module_version": "2.0.0",
      "model_name": "FloatProgressModel",
      "state": {
       "bar_style": "success",
       "layout": "IPY_MODEL_3a6080e7a9ba47679f7bc2b201401800",
       "max": 2,
       "style": "IPY_MODEL_cbcb1c13fd394ef88fb4c47a8eaaba7e",
       "value": 2
      }
     },
     "848436d413754b2098ee672e1e9eb570": {
      "model_module": "@jupyter-widgets/base",
      "model_module_version": "2.0.0",
      "model_name": "LayoutModel",
      "state": {}
     },
     "84bf7df6f1f54a09a37822349ce99333": {
      "model_module": "@jupyter-widgets/base",
      "model_module_version": "2.0.0",
      "model_name": "LayoutModel",
      "state": {}
     },
     "873f655898654e7b9817d0940202bf2d": {
      "model_module": "@jupyter-widgets/controls",
      "model_module_version": "2.0.0",
      "model_name": "HTMLStyleModel",
      "state": {
       "description_width": "",
       "font_size": null,
       "text_color": null
      }
     },
     "89247eac53ff4b1ba76072c26fc3251d": {
      "model_module": "@jupyter-widgets/controls",
      "model_module_version": "2.0.0",
      "model_name": "HTMLModel",
      "state": {
       "layout": "IPY_MODEL_5cf6ccafba8d49d99fbc2748a5037024",
       "style": "IPY_MODEL_b233344fd0524dd4998609ab1e8066d7",
       "value": "Loading checkpoint shards: 100%"
      }
     },
     "8975c46b45384323b476f382de38a44a": {
      "model_module": "@jupyter-widgets/controls",
      "model_module_version": "2.0.0",
      "model_name": "ProgressStyleModel",
      "state": {
       "description_width": ""
      }
     },
     "91b5ccf442964a4c8badd5e120837027": {
      "model_module": "@jupyter-widgets/controls",
      "model_module_version": "2.0.0",
      "model_name": "HBoxModel",
      "state": {
       "children": [
        "IPY_MODEL_4dbdd00fa362463ca4f5c59c95664b4d",
        "IPY_MODEL_10eff95925584ff7b8cdfdee041965d0",
        "IPY_MODEL_1784099c75244062a67f63d74b4c5594"
       ],
       "layout": "IPY_MODEL_6ebfd05fb71d4d01bc5b02390e7d0f2c"
      }
     },
     "94cffc2772664f5898306e79040c4c40": {
      "model_module": "@jupyter-widgets/controls",
      "model_module_version": "2.0.0",
      "model_name": "HTMLStyleModel",
      "state": {
       "description_width": "",
       "font_size": null,
       "text_color": null
      }
     },
     "9c0de967106740d382c4dc020541464d": {
      "model_module": "@jupyter-widgets/base",
      "model_module_version": "2.0.0",
      "model_name": "LayoutModel",
      "state": {}
     },
     "9ffddf259e5945c1991572aea0d1885d": {
      "model_module": "@jupyter-widgets/controls",
      "model_module_version": "2.0.0",
      "model_name": "HTMLStyleModel",
      "state": {
       "description_width": "",
       "font_size": null,
       "text_color": null
      }
     },
     "a0a74855e91c41c8ac5dfd66be80c9dc": {
      "model_module": "@jupyter-widgets/controls",
      "model_module_version": "2.0.0",
      "model_name": "HTMLModel",
      "state": {
       "layout": "IPY_MODEL_d1087b684edc4fa7965e23d0b8a69028",
       "style": "IPY_MODEL_6b0cb7dc045b4069be86b899cdb546bf",
       "value": " 2/2 [11:28&lt;00:00, 328.21s/it]"
      }
     },
     "a0e58a8f0381480c9a4cd6cd3c2445de": {
      "model_module": "@jupyter-widgets/controls",
      "model_module_version": "2.0.0",
      "model_name": "HTMLStyleModel",
      "state": {
       "description_width": "",
       "font_size": null,
       "text_color": null
      }
     },
     "a2b7f10e9d4f48a3891c65ad2ff92ed7": {
      "model_module": "@jupyter-widgets/controls",
      "model_module_version": "2.0.0",
      "model_name": "HTMLStyleModel",
      "state": {
       "description_width": "",
       "font_size": null,
       "text_color": null
      }
     },
     "a39415aeb102408b81439000f768c31f": {
      "model_module": "@jupyter-widgets/base",
      "model_module_version": "2.0.0",
      "model_name": "LayoutModel",
      "state": {}
     },
     "a4d48df4855341ab90b33b125fc63c92": {
      "model_module": "@jupyter-widgets/controls",
      "model_module_version": "2.0.0",
      "model_name": "HBoxModel",
      "state": {
       "children": [
        "IPY_MODEL_3821a6a463bd4f50a3c7c3c6cf35022d",
        "IPY_MODEL_02070f968ca14ffab5b62653c0f71b2b",
        "IPY_MODEL_013d8f8ff6af4f9e89e7f1be2cfb6ce3"
       ],
       "layout": "IPY_MODEL_f06c395eb14545b6a2e594de86c744e5"
      }
     },
     "a56a2318c94e40b78d27a613145a2999": {
      "model_module": "@jupyter-widgets/base",
      "model_module_version": "2.0.0",
      "model_name": "LayoutModel",
      "state": {}
     },
     "a78e8edca7324a07b307bffcee2843fd": {
      "model_module": "@jupyter-widgets/base",
      "model_module_version": "2.0.0",
      "model_name": "LayoutModel",
      "state": {}
     },
     "ad283754ad784829b95f545175a28241": {
      "model_module": "@jupyter-widgets/base",
      "model_module_version": "2.0.0",
      "model_name": "LayoutModel",
      "state": {}
     },
     "ad9a197cd3fa4e848d12185236010535": {
      "model_module": "@jupyter-widgets/controls",
      "model_module_version": "2.0.0",
      "model_name": "HTMLStyleModel",
      "state": {
       "description_width": "",
       "font_size": null,
       "text_color": null
      }
     },
     "aff68e1586484308a72c2c4caf7d6a34": {
      "model_module": "@jupyter-widgets/controls",
      "model_module_version": "2.0.0",
      "model_name": "HTMLStyleModel",
      "state": {
       "description_width": "",
       "font_size": null,
       "text_color": null
      }
     },
     "b233344fd0524dd4998609ab1e8066d7": {
      "model_module": "@jupyter-widgets/controls",
      "model_module_version": "2.0.0",
      "model_name": "HTMLStyleModel",
      "state": {
       "description_width": "",
       "font_size": null,
       "text_color": null
      }
     },
     "b4030d780cd54390897811bf00c848c4": {
      "model_module": "@jupyter-widgets/base",
      "model_module_version": "2.0.0",
      "model_name": "LayoutModel",
      "state": {}
     },
     "b52738d307c24c00b6c3708fee9369d9": {
      "model_module": "@jupyter-widgets/controls",
      "model_module_version": "2.0.0",
      "model_name": "HTMLModel",
      "state": {
       "layout": "IPY_MODEL_6d53fd0684f04045ad09be90062318d0",
       "style": "IPY_MODEL_94cffc2772664f5898306e79040c4c40",
       "value": "model.safetensors.index.json: 100%"
      }
     },
     "b638bae483a7435b8a2e4c70eff128f2": {
      "model_module": "@jupyter-widgets/base",
      "model_module_version": "2.0.0",
      "model_name": "LayoutModel",
      "state": {}
     },
     "b81b40dbaeb34053aec303762a709ac1": {
      "model_module": "@jupyter-widgets/controls",
      "model_module_version": "2.0.0",
      "model_name": "FloatProgressModel",
      "state": {
       "bar_style": "success",
       "layout": "IPY_MODEL_848436d413754b2098ee672e1e9eb570",
       "max": 2,
       "style": "IPY_MODEL_8975c46b45384323b476f382de38a44a",
       "value": 2
      }
     },
     "b915079e066a4b84bf9daceac60964b4": {
      "model_module": "@jupyter-widgets/base",
      "model_module_version": "2.0.0",
      "model_name": "LayoutModel",
      "state": {}
     },
     "b9241e41ed864d27a2a272b67b81cd53": {
      "model_module": "@jupyter-widgets/base",
      "model_module_version": "2.0.0",
      "model_name": "LayoutModel",
      "state": {}
     },
     "ba2c7b77914c465f84412e11219d8be6": {
      "model_module": "@jupyter-widgets/base",
      "model_module_version": "2.0.0",
      "model_name": "LayoutModel",
      "state": {}
     },
     "bb2e1a5bcd744e319af5ff5d0c906b03": {
      "model_module": "@jupyter-widgets/base",
      "model_module_version": "2.0.0",
      "model_name": "LayoutModel",
      "state": {}
     },
     "bb5ee78297b341beb52e6e4d0d7c816e": {
      "model_module": "@jupyter-widgets/controls",
      "model_module_version": "2.0.0",
      "model_name": "ProgressStyleModel",
      "state": {
       "description_width": ""
      }
     },
     "bb7f1ed01ebe4e17b376ab4262ff84c2": {
      "model_module": "@jupyter-widgets/base",
      "model_module_version": "2.0.0",
      "model_name": "LayoutModel",
      "state": {}
     },
     "bbebc14be4d24798a36720fdd27f1866": {
      "model_module": "@jupyter-widgets/controls",
      "model_module_version": "2.0.0",
      "model_name": "HTMLStyleModel",
      "state": {
       "description_width": "",
       "font_size": null,
       "text_color": null
      }
     },
     "bcd111afa1c341339fe5efa39ebb80e7": {
      "model_module": "@jupyter-widgets/controls",
      "model_module_version": "2.0.0",
      "model_name": "HBoxModel",
      "state": {
       "children": [
        "IPY_MODEL_13bdc585c1ea4ecdab015b86070dea7f",
        "IPY_MODEL_d1966cc3f6204c5eb22418fd38c8f2a1",
        "IPY_MODEL_284fcc72c1584998b2522d9e5e602466"
       ],
       "layout": "IPY_MODEL_229c0c1575d344fba52aa696a5c22173"
      }
     },
     "be39c767143548d0ad63b67feaab01a6": {
      "model_module": "@jupyter-widgets/base",
      "model_module_version": "2.0.0",
      "model_name": "LayoutModel",
      "state": {}
     },
     "bee281e5cb85441d99f157de87a76039": {
      "model_module": "@jupyter-widgets/controls",
      "model_module_version": "2.0.0",
      "model_name": "HBoxModel",
      "state": {
       "children": [
        "IPY_MODEL_c922a74ce03c40d9b456617f6c9ee59d",
        "IPY_MODEL_39b2b72c3d934a539513f5de4eb82b6d",
        "IPY_MODEL_2b6025b83e0d4448acf9dc023e65de5c"
       ],
       "layout": "IPY_MODEL_23ff3c0f2f5143b19a629412bfe594c7"
      }
     },
     "c26544c0fc2b4969bf1bd8f75aba52f8": {
      "model_module": "@jupyter-widgets/base",
      "model_module_version": "2.0.0",
      "model_name": "LayoutModel",
      "state": {}
     },
     "c3bcda6046144256b1bf251aeead9b7c": {
      "model_module": "@jupyter-widgets/base",
      "model_module_version": "2.0.0",
      "model_name": "LayoutModel",
      "state": {}
     },
     "c434e81649194f6db3acd41c82eeec1c": {
      "model_module": "@jupyter-widgets/controls",
      "model_module_version": "2.0.0",
      "model_name": "HTMLStyleModel",
      "state": {
       "description_width": "",
       "font_size": null,
       "text_color": null
      }
     },
     "c477467788de4c46897f6efca40085fa": {
      "model_module": "@jupyter-widgets/controls",
      "model_module_version": "2.0.0",
      "model_name": "HTMLModel",
      "state": {
       "layout": "IPY_MODEL_d0913e9ef3bd4816b79fa6fd75097145",
       "style": "IPY_MODEL_ec4af87fd24b48f1ae1d57ec3368f512",
       "value": "model-00001-of-00002.safetensors: 100%"
      }
     },
     "c4fbb51225dd4e0c90637bd52f0daee3": {
      "model_module": "@jupyter-widgets/controls",
      "model_module_version": "2.0.0",
      "model_name": "ProgressStyleModel",
      "state": {
       "description_width": ""
      }
     },
     "c922a74ce03c40d9b456617f6c9ee59d": {
      "model_module": "@jupyter-widgets/controls",
      "model_module_version": "2.0.0",
      "model_name": "HTMLModel",
      "state": {
       "layout": "IPY_MODEL_cc95050258b845c9ba86d98c30939e18",
       "style": "IPY_MODEL_c434e81649194f6db3acd41c82eeec1c",
       "value": "generation_config.json: 100%"
      }
     },
     "c9acc4fb638346d2821305e8cd825a6a": {
      "model_module": "@jupyter-widgets/controls",
      "model_module_version": "2.0.0",
      "model_name": "HTMLModel",
      "state": {
       "layout": "IPY_MODEL_bb2e1a5bcd744e319af5ff5d0c906b03",
       "style": "IPY_MODEL_11bfb8d7885f4687aaefc3205f2e4f36",
       "value": " 296/296 [00:00&lt;00:00, 79.6kB/s]"
      }
     },
     "cab0e49ed6874ac0b53ad1778a49eeb6": {
      "model_module": "@jupyter-widgets/controls",
      "model_module_version": "2.0.0",
      "model_name": "HTMLStyleModel",
      "state": {
       "description_width": "",
       "font_size": null,
       "text_color": null
      }
     },
     "cbcb1c13fd394ef88fb4c47a8eaaba7e": {
      "model_module": "@jupyter-widgets/controls",
      "model_module_version": "2.0.0",
      "model_name": "ProgressStyleModel",
      "state": {
       "description_width": ""
      }
     },
     "cbf9591831b340beb4ddf71e86defb98": {
      "model_module": "@jupyter-widgets/controls",
      "model_module_version": "2.0.0",
      "model_name": "FloatProgressModel",
      "state": {
       "bar_style": "success",
       "layout": "IPY_MODEL_ba2c7b77914c465f84412e11219d8be6",
       "max": 2895825584,
       "style": "IPY_MODEL_bb5ee78297b341beb52e6e4d0d7c816e",
       "value": 2895825584
      }
     },
     "cc65ed20587d4eb69c4385ed79730e58": {
      "model_module": "@jupyter-widgets/controls",
      "model_module_version": "2.0.0",
      "model_name": "HTMLStyleModel",
      "state": {
       "description_width": "",
       "font_size": null,
       "text_color": null
      }
     },
     "cc95050258b845c9ba86d98c30939e18": {
      "model_module": "@jupyter-widgets/base",
      "model_module_version": "2.0.0",
      "model_name": "LayoutModel",
      "state": {}
     },
     "cc9ffce70bd44947bd3556537d48d19a": {
      "model_module": "@jupyter-widgets/controls",
      "model_module_version": "2.0.0",
      "model_name": "HTMLStyleModel",
      "state": {
       "description_width": "",
       "font_size": null,
       "text_color": null
      }
     },
     "cd27f1f6640e4e74a7cbf7d9b387deac": {
      "model_module": "@jupyter-widgets/controls",
      "model_module_version": "2.0.0",
      "model_name": "HTMLModel",
      "state": {
       "layout": "IPY_MODEL_0a58b138c4db44f68a76abebadba41b5",
       "style": "IPY_MODEL_a0e58a8f0381480c9a4cd6cd3c2445de",
       "value": "model-00002-of-00002.safetensors: 100%"
      }
     },
     "ce1b94422ff345378548098d4d70c285": {
      "model_module": "@jupyter-widgets/base",
      "model_module_version": "2.0.0",
      "model_name": "LayoutModel",
      "state": {}
     },
     "cec0435541b34e40b0ff6872b071b561": {
      "model_module": "@jupyter-widgets/controls",
      "model_module_version": "2.0.0",
      "model_name": "HTMLStyleModel",
      "state": {
       "description_width": "",
       "font_size": null,
       "text_color": null
      }
     },
     "d0913e9ef3bd4816b79fa6fd75097145": {
      "model_module": "@jupyter-widgets/base",
      "model_module_version": "2.0.0",
      "model_name": "LayoutModel",
      "state": {}
     },
     "d1087b684edc4fa7965e23d0b8a69028": {
      "model_module": "@jupyter-widgets/base",
      "model_module_version": "2.0.0",
      "model_name": "LayoutModel",
      "state": {}
     },
     "d1966cc3f6204c5eb22418fd38c8f2a1": {
      "model_module": "@jupyter-widgets/controls",
      "model_module_version": "2.0.0",
      "model_name": "FloatProgressModel",
      "state": {
       "bar_style": "success",
       "layout": "IPY_MODEL_c26544c0fc2b4969bf1bd8f75aba52f8",
       "max": 2,
       "style": "IPY_MODEL_43bd5b60b32e4497abe28ce21d43a4b9",
       "value": 2
      }
     },
     "d437463d99c14ed9a0bee622c83243ea": {
      "model_module": "@jupyter-widgets/controls",
      "model_module_version": "2.0.0",
      "model_name": "HBoxModel",
      "state": {
       "children": [
        "IPY_MODEL_edbdbd697eae4e50bb7a92efa9624bdb",
        "IPY_MODEL_7720802bed354e76ac417b8909cd2438",
        "IPY_MODEL_53cef8054a9e4cc49a378b2d917acb72"
       ],
       "layout": "IPY_MODEL_04104367a8474175b3e571f4cc8e8bb5"
      }
     },
     "d7be6037584d41ac8550c6e3970c961b": {
      "model_module": "@jupyter-widgets/controls",
      "model_module_version": "2.0.0",
      "model_name": "HTMLStyleModel",
      "state": {
       "description_width": "",
       "font_size": null,
       "text_color": null
      }
     },
     "d81c10f93ab34266945af340aac24c59": {
      "model_module": "@jupyter-widgets/controls",
      "model_module_version": "2.0.0",
      "model_name": "HBoxModel",
      "state": {
       "children": [
        "IPY_MODEL_0660130c51064d2182835d5078f78d74",
        "IPY_MODEL_09cf38bae9044ccba495b0af92dbc00e",
        "IPY_MODEL_0d2c248deb504b4a8ab9db88a2d48d6b"
       ],
       "layout": "IPY_MODEL_a39415aeb102408b81439000f768c31f"
      }
     },
     "d8498b80991648aba26811c13cefeb06": {
      "model_module": "@jupyter-widgets/base",
      "model_module_version": "2.0.0",
      "model_name": "LayoutModel",
      "state": {}
     },
     "da731bb5cbfc4070ba87b0e29a2d92e0": {
      "model_module": "@jupyter-widgets/controls",
      "model_module_version": "2.0.0",
      "model_name": "HTMLStyleModel",
      "state": {
       "description_width": "",
       "font_size": null,
       "text_color": null
      }
     },
     "dc2bf4ea862d42c9bf1ded60e353628d": {
      "model_module": "@jupyter-widgets/controls",
      "model_module_version": "2.0.0",
      "model_name": "ProgressStyleModel",
      "state": {
       "description_width": ""
      }
     },
     "dde1504e4897452594403693fd50ad2c": {
      "model_module": "@jupyter-widgets/controls",
      "model_module_version": "2.0.0",
      "model_name": "ProgressStyleModel",
      "state": {
       "description_width": ""
      }
     },
     "e661f11371b04dd08481dde53cc056b4": {
      "model_module": "@jupyter-widgets/controls",
      "model_module_version": "2.0.0",
      "model_name": "HTMLStyleModel",
      "state": {
       "description_width": "",
       "font_size": null,
       "text_color": null
      }
     },
     "e74150c4e2704435a3d6b609d732e2eb": {
      "model_module": "@jupyter-widgets/controls",
      "model_module_version": "2.0.0",
      "model_name": "FloatProgressModel",
      "state": {
       "bar_style": "success",
       "layout": "IPY_MODEL_d8498b80991648aba26811c13cefeb06",
       "max": 18062,
       "style": "IPY_MODEL_4feb58523bef45c78cb60f950ff6b9d7",
       "value": 18062
      }
     },
     "e84c048966d94d4297a4c333e6e337cf": {
      "model_module": "@jupyter-widgets/controls",
      "model_module_version": "2.0.0",
      "model_name": "HTMLStyleModel",
      "state": {
       "description_width": "",
       "font_size": null,
       "text_color": null
      }
     },
     "ec4af87fd24b48f1ae1d57ec3368f512": {
      "model_module": "@jupyter-widgets/controls",
      "model_module_version": "2.0.0",
      "model_name": "HTMLStyleModel",
      "state": {
       "description_width": "",
       "font_size": null,
       "text_color": null
      }
     },
     "edbdbd697eae4e50bb7a92efa9624bdb": {
      "model_module": "@jupyter-widgets/controls",
      "model_module_version": "2.0.0",
      "model_name": "HTMLModel",
      "state": {
       "layout": "IPY_MODEL_2d59df57f48844069f2f03dc78b6a435",
       "style": "IPY_MODEL_e84c048966d94d4297a4c333e6e337cf",
       "value": "configuration_intern_vit.py: 100%"
      }
     },
     "ef7c349b75fa4554ac06c22cf706705b": {
      "model_module": "@jupyter-widgets/controls",
      "model_module_version": "2.0.0",
      "model_name": "FloatProgressModel",
      "state": {
       "bar_style": "success",
       "layout": "IPY_MODEL_ce1b94422ff345378548098d4d70c285",
       "max": 296,
       "style": "IPY_MODEL_f242a2771b0648f68d3635b1d8919ceb",
       "value": 296
      }
     },
     "f06c395eb14545b6a2e594de86c744e5": {
      "model_module": "@jupyter-widgets/base",
      "model_module_version": "2.0.0",
      "model_name": "LayoutModel",
      "state": {}
     },
     "f1ccead2f32a4b32af9b9c8e7faaf3f3": {
      "model_module": "@jupyter-widgets/controls",
      "model_module_version": "2.0.0",
      "model_name": "FloatProgressModel",
      "state": {
       "bar_style": "success",
       "layout": "IPY_MODEL_5d9d471da1064520a651c6256d6f5093",
       "max": 54365,
       "style": "IPY_MODEL_dc2bf4ea862d42c9bf1ded60e353628d",
       "value": 54365
      }
     },
     "f242a2771b0648f68d3635b1d8919ceb": {
      "model_module": "@jupyter-widgets/controls",
      "model_module_version": "2.0.0",
      "model_name": "ProgressStyleModel",
      "state": {
       "description_width": ""
      }
     },
     "f24c2e1272ca461e8449de85c5c4a9c1": {
      "model_module": "@jupyter-widgets/base",
      "model_module_version": "2.0.0",
      "model_name": "LayoutModel",
      "state": {}
     },
     "f43786b3d2194866ac5a1b552600f10c": {
      "model_module": "@jupyter-widgets/base",
      "model_module_version": "2.0.0",
      "model_name": "LayoutModel",
      "state": {}
     },
     "f614f8c8404b4bc882eabc680db6734b": {
      "model_module": "@jupyter-widgets/controls",
      "model_module_version": "2.0.0",
      "model_name": "HTMLStyleModel",
      "state": {
       "description_width": "",
       "font_size": null,
       "text_color": null
      }
     },
     "f7133d15e0bf4924b193e0eb60602344": {
      "model_module": "@jupyter-widgets/controls",
      "model_module_version": "2.0.0",
      "model_name": "HBoxModel",
      "state": {
       "children": [
        "IPY_MODEL_cd27f1f6640e4e74a7cbf7d9b387deac",
        "IPY_MODEL_cbf9591831b340beb4ddf71e86defb98",
        "IPY_MODEL_7c1ef283d792480bbf6826ac03c0663b"
       ],
       "layout": "IPY_MODEL_f7ea85bb2d26461ea995297cecce1972"
      }
     },
     "f7ea85bb2d26461ea995297cecce1972": {
      "model_module": "@jupyter-widgets/base",
      "model_module_version": "2.0.0",
      "model_name": "LayoutModel",
      "state": {}
     },
     "f8a2e21ea50c4b4395cfc587d6d90f12": {
      "model_module": "@jupyter-widgets/base",
      "model_module_version": "2.0.0",
      "model_name": "LayoutModel",
      "state": {}
     },
     "fb019b2290e740beb91137f2bc8b8e85": {
      "model_module": "@jupyter-widgets/controls",
      "model_module_version": "2.0.0",
      "model_name": "HBoxModel",
      "state": {
       "children": [
        "IPY_MODEL_c477467788de4c46897f6efca40085fa",
        "IPY_MODEL_19c32a441e8d4dd880b9d8f5c87a0884",
        "IPY_MODEL_5c9bff4eb1304207978f1a9bf68c579a"
       ],
       "layout": "IPY_MODEL_b915079e066a4b84bf9daceac60964b4"
      }
     },
     "fbbec4f03f934db0bf00ce6ed1469933": {
      "model_module": "@jupyter-widgets/controls",
      "model_module_version": "2.0.0",
      "model_name": "HTMLModel",
      "state": {
       "layout": "IPY_MODEL_2c32f141e6da4993ad0e22b5fd18a172",
       "style": "IPY_MODEL_cc65ed20587d4eb69c4385ed79730e58",
       "value": "special_tokens_map.json: 100%"
      }
     },
     "fd76889951854041bf53d9897ef992c3": {
      "model_module": "@jupyter-widgets/base",
      "model_module_version": "2.0.0",
      "model_name": "LayoutModel",
      "state": {}
     },
     "ffddf514553c45a78f07ab6872ebaf34": {
      "model_module": "@jupyter-widgets/controls",
      "model_module_version": "2.0.0",
      "model_name": "ProgressStyleModel",
      "state": {
       "description_width": ""
      }
     }
    },
    "version_major": 2,
    "version_minor": 0
   }
  }
 },
 "nbformat": 4,
 "nbformat_minor": 5
}
