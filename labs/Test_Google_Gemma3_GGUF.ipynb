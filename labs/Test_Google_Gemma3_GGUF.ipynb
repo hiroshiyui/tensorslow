{
 "cells": [
  {
   "cell_type": "code",
   "execution_count": null,
   "id": "4d15569a-b92b-49fe-8cb8-9b912796a1ec",
   "metadata": {},
   "outputs": [],
   "source": [
    "from llama_cpp import Llama\n",
    "import pprint\n",
    "\n",
    "llm = Llama.from_pretrained(\n",
    "\trepo_id=\"ggml-org/gemma-3-4b-it-GGUF\",\n",
    "\tfilename=\"gemma-3-4b-it-Q4_K_M.gguf\",\n",
    ")"
   ]
  },
  {
   "cell_type": "code",
   "execution_count": 5,
   "id": "d993ff28-04d0-4ad6-bb6d-b71fa9c9c1d3",
   "metadata": {
    "execution": {
     "iopub.execute_input": "2025-03-19T10:23:55.915502Z",
     "iopub.status.busy": "2025-03-19T10:23:55.915047Z",
     "iopub.status.idle": "2025-03-19T10:24:24.825173Z",
     "shell.execute_reply": "2025-03-19T10:24:24.824822Z",
     "shell.execute_reply.started": "2025-03-19T10:23:55.915474Z"
    }
   },
   "outputs": [
    {
     "name": "stderr",
     "output_type": "stream",
     "text": [
      "llama_perf_context_print:        load time =     539.92 ms\n",
      "llama_perf_context_print: prompt eval time =     539.81 ms /    29 tokens (   18.61 ms per token,    53.72 tokens per second)\n",
      "llama_perf_context_print:        eval time =   27972.58 ms /   482 runs   (   58.03 ms per token,    17.23 tokens per second)\n",
      "llama_perf_context_print:       total time =   28903.86 ms /   511 tokens\n"
     ]
    },
    {
     "name": "stdout",
     "output_type": "stream",
     "text": [
      "{'id': 'chatcmpl-d6f1e393-4e46-4f38-ac5f-d6e88c2e1a5c',\n",
      " 'object': 'chat.completion',\n",
      " 'created': 1742379835,\n",
      " 'model': '/home/yhh/.cache/huggingface/hub/models--ggml-org--gemma-3-4b-it-GGUF/snapshots/43a5d3ad8b3e023836fea99a7f283f8ce1aa94b2/./gemma-3-4b-it-Q4_K_M.gguf',\n",
      " 'choices': [{'index': 0,\n",
      "              'message': {'role': 'assistant',\n",
      "                          'content': '好的，沒問題！讓我來為您介紹一下珍珠奶茶吧！\\n'\n",
      "                                     '\\n'\n",
      "                                     '珍珠奶茶 (zhēnzhū nǎichá) '\n",
      "                                     '是一種源自台灣的非常受歡迎的飲品。它結合了奶茶的香醇和珍珠的Q彈，簡直是完美結合！\\n'\n",
      "                                     '\\n'\n",
      "                                     '**以下是關於珍珠奶茶的詳細介紹：**\\n'\n",
      "                                     '\\n'\n",
      "                                     '* **基本組成：** 珍珠奶茶主要由以下幾部分組成：\\n'\n",
      "                                     '    * **奶茶 (nǎichá):**  這是基礎，通常是用紅茶 '\n",
      "                                     '(lóngchá) 沖泡後加入鮮奶 (xiān nǎi) 和糖 (táng) '\n",
      "                                     '調製而成。紅茶的香氣和奶的濃郁完美融合。\\n'\n",
      "                                     '    * **珍珠 (zhēnzhū):**  '\n",
      "                                     '這是珍珠奶茶的靈魂！珍珠是用木薯澱粉 (mùshǔ diànfěn) '\n",
      "                                     '製作而成，經過長時間熬煮，變得Q彈、有嚼勁，口感非常好。\\n'\n",
      "                                     '    * **冰塊 (bīngkuài) / 熱冰 (rè bīng):**  '\n",
      "                                     '可以根據個人喜好選擇冰鎮或熱冰。\\n'\n",
      "                                     '\\n'\n",
      "                                     '* **口味變化：**  珍珠奶茶的口味變化非常多樣，除了經典的黑糖珍珠 '\n",
      "                                     '(hēi táng zhēnzhū)、芋泥珍珠 (yù ní zhēnzhū) '\n",
      "                                     '之外，還有：\\n'\n",
      "                                     '    * **波霸 (bōpà):**  用更大的珍珠代替傳統的珍珠。\\n'\n",
      "                                     '    * **椰果 (yécǎo):**  用椰子果肉製成的珍珠，口感香甜。\\n'\n",
      "                                     '    * **仙草 (xiāncǎo):**  用仙草製成的珍珠，口感清涼。\\n'\n",
      "                                     '    * **抹茶 (mòchá):**  '\n",
      "                                     '用抹茶粉調製的奶茶，顏色翠綠，口感清新。\\n'\n",
      "                                     '\\n'\n",
      "                                     '* **流行原因：** 珍珠奶茶之所以如此受歡迎，原因有很多：\\n'\n",
      "                                     '    * **口感豐富：**  '\n",
      "                                     '奶茶的香醇、珍珠的Q彈、冰塊的冰涼，口感層次豐富，令人回味無窮。\\n'\n",
      "                                     '    * **方便快捷：**  珍珠奶茶非常方便，隨時隨地都能輕鬆享用。\\n'\n",
      "                                     '    *'},\n",
      "              'logprobs': None,\n",
      "              'finish_reason': 'length'}],\n",
      " 'usage': {'prompt_tokens': 29, 'completion_tokens': 483, 'total_tokens': 512}}\n",
      "CPU times: user 2min 56s, sys: 292 ms, total: 2min 56s\n",
      "Wall time: 28.9 s\n"
     ]
    }
   ],
   "source": [
    "%%time\n",
    "\n",
    "output = llm.create_chat_completion(\n",
    "      messages = [\n",
    "          {\"role\": \"system\", \"content\": \"You are an assistant who perfectly speaks Mandarin in Traditional script.\"},\n",
    "          {\n",
    "              \"role\": \"user\",\n",
    "              \"content\": \"請幫我介紹珍珠奶茶\"\n",
    "          }\n",
    "      ]\n",
    ")\n",
    "\n",
    "pprint.pp(output)"
   ]
  },
  {
   "cell_type": "code",
   "execution_count": null,
   "id": "5f4eec91-d8ad-4f96-9f02-5b847de25a3d",
   "metadata": {},
   "outputs": [],
   "source": []
  }
 ],
 "metadata": {
  "kernelspec": {
   "display_name": "Python 3 (ipykernel)",
   "language": "python",
   "name": "python3"
  },
  "language_info": {
   "codemirror_mode": {
    "name": "ipython",
    "version": 3
   },
   "file_extension": ".py",
   "mimetype": "text/x-python",
   "name": "python",
   "nbconvert_exporter": "python",
   "pygments_lexer": "ipython3",
   "version": "3.12.4"
  },
  "widgets": {
   "application/vnd.jupyter.widget-state+json": {
    "state": {},
    "version_major": 2,
    "version_minor": 0
   }
  }
 },
 "nbformat": 4,
 "nbformat_minor": 5
}
