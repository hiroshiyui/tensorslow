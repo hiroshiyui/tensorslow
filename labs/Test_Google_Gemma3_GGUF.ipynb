{
 "cells": [
  {
   "cell_type": "code",
   "execution_count": null,
   "id": "4d15569a-b92b-49fe-8cb8-9b912796a1ec",
   "metadata": {},
   "outputs": [],
   "source": [
    "from llama_cpp import Llama\n",
    "import pprint\n",
    "\n",
    "llm = Llama.from_pretrained(\n",
    "\trepo_id=\"ggml-org/gemma-3-4b-it-GGUF\",\n",
    "\tfilename=\"gemma-3-4b-it-Q4_K_M.gguf\",\n",
    ")"
   ]
  },
  {
   "cell_type": "code",
   "execution_count": 10,
   "id": "d993ff28-04d0-4ad6-bb6d-b71fa9c9c1d3",
   "metadata": {
    "execution": {
     "iopub.execute_input": "2025-03-19T11:01:25.383921Z",
     "iopub.status.busy": "2025-03-19T11:01:25.383710Z",
     "iopub.status.idle": "2025-03-19T11:01:36.830818Z",
     "shell.execute_reply": "2025-03-19T11:01:36.830431Z",
     "shell.execute_reply.started": "2025-03-19T11:01:25.383908Z"
    }
   },
   "outputs": [
    {
     "name": "stderr",
     "output_type": "stream",
     "text": [
      "Llama.generate: 16 prefix-match hit, remaining 14 prompt tokens to eval\n",
      "llama_perf_context_print:        load time =     539.92 ms\n",
      "llama_perf_context_print: prompt eval time =     363.40 ms /    14 tokens (   25.96 ms per token,    38.52 tokens per second)\n",
      "llama_perf_context_print:        eval time =   10975.26 ms /   191 runs   (   57.46 ms per token,    17.40 tokens per second)\n",
      "llama_perf_context_print:       total time =   11441.26 ms /   205 tokens\n"
     ]
    },
    {
     "name": "stdout",
     "output_type": "stream",
     "text": [
      "{'id': 'chatcmpl-e99a2ca5-1b54-4672-85a5-92433662d0bf',\n",
      " 'object': 'chat.completion',\n",
      " 'created': 1742382085,\n",
      " 'model': '/home/yhh/.cache/huggingface/hub/models--ggml-org--gemma-3-4b-it-GGUF/snapshots/43a5d3ad8b3e023836fea99a7f283f8ce1aa94b2/./gemma-3-4b-it-Q4_K_M.gguf',\n",
      " 'choices': [{'index': 0,\n",
      "              'message': {'role': 'assistant',\n",
      "                          'content': '好的，沒問題！以下是關於珍珠奶茶的簡短介紹：\\n'\n",
      "                                     '\\n'\n",
      "                                     '珍珠奶茶，源自台灣的經典飲品，融合了台灣茶與港式奶茶的特色，已風靡全球。它由濃郁的奶茶為基底，搭配一顆顆Q彈的「珍珠」組成。\\n'\n",
      "                                     '\\n'\n",
      "                                     '「珍珠」其實是黑糖珍珠，經過熬煮後呈現黑亮色澤，口感綿密，帶有濃郁的黑糖香。奶茶的風味則可以選擇原味、香奶、芋奶等多種口味，滿足不同人的喜好。\\n'\n",
      "                                     '\\n'\n",
      "                                     '珍珠奶茶不僅僅是一種飲品，更代表著台灣的多元文化與創意。它簡單、美味、方便，是許多人日常生活中不可或缺的選擇。無論是學生、上班族，甚至是遊客，都能在品嚐珍珠奶茶的同時，感受到台灣的魅力。\\n'},\n",
      "              'logprobs': None,\n",
      "              'finish_reason': 'stop'}],\n",
      " 'usage': {'prompt_tokens': 30, 'completion_tokens': 191, 'total_tokens': 221}}\n",
      "CPU times: user 1min 10s, sys: 41.6 ms, total: 1min 10s\n",
      "Wall time: 11.4 s\n"
     ]
    }
   ],
   "source": [
    "%%time\n",
    "\n",
    "output = llm.create_chat_completion(\n",
    "      messages = [\n",
    "          {\n",
    "              \"role\": \"system\",\n",
    "              \"content\": \"您是一位非常睿智的助理。\"\n",
    "          },\n",
    "          {\n",
    "              \"role\": \"user\",\n",
    "              \"content\": \"請幫我在二百個字以內介紹珍珠奶茶\"\n",
    "          }\n",
    "      ]\n",
    ")\n",
    "\n",
    "pprint.pp(output)"
   ]
  },
  {
   "cell_type": "code",
   "execution_count": null,
   "id": "5f4eec91-d8ad-4f96-9f02-5b847de25a3d",
   "metadata": {},
   "outputs": [],
   "source": []
  }
 ],
 "metadata": {
  "kernelspec": {
   "display_name": "Python 3 (ipykernel)",
   "language": "python",
   "name": "python3"
  },
  "language_info": {
   "codemirror_mode": {
    "name": "ipython",
    "version": 3
   },
   "file_extension": ".py",
   "mimetype": "text/x-python",
   "name": "python",
   "nbconvert_exporter": "python",
   "pygments_lexer": "ipython3",
   "version": "3.12.4"
  },
  "widgets": {
   "application/vnd.jupyter.widget-state+json": {
    "state": {},
    "version_major": 2,
    "version_minor": 0
   }
  }
 },
 "nbformat": 4,
 "nbformat_minor": 5
}
