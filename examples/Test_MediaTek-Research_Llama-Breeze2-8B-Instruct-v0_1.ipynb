{
 "cells": [
  {
   "cell_type": "code",
   "execution_count": 2,
   "id": "ba13450f-c22f-438f-b05a-70f9abfb7bea",
   "metadata": {
    "editable": true,
    "execution": {
     "iopub.execute_input": "2025-02-25T02:28:03.717666Z",
     "iopub.status.busy": "2025-02-25T02:28:03.717440Z",
     "iopub.status.idle": "2025-02-25T02:29:38.215238Z",
     "shell.execute_reply": "2025-02-25T02:29:38.214874Z",
     "shell.execute_reply.started": "2025-02-25T02:28:03.717647Z"
    },
    "slideshow": {
     "slide_type": ""
    },
    "tags": []
   },
   "outputs": [
    {
     "name": "stderr",
     "output_type": "stream",
     "text": [
      "Loading checkpoint shards: 100%|███████████████████████████████████████████████████████████████████████████████████████████████████████████████████████████████| 4/4 [00:00<00:00,  4.94it/s]\n",
      "Setting `pad_token_id` to `eos_token_id`:128009 for open-end generation.\n"
     ]
    },
    {
     "name": "stdout",
     "output_type": "stream",
     "text": [
      "{'role': 'assistant', 'content': '深度學習是人工智慧的一個分支，主要利用類似於大腦神經網路的計算模型來處理和分析資料。它可以從大量數據中自動學習並識別模式、關係或特徵，然後應用這些知識在新資料上進行預測或決策。\\n\\n深度學習通常使用多層次的神經網路，其中每一層都包含許多相互連接的節點（稱為神經元）。這些神經元透過非線性函式相互連接，並且會根據輸入資料調整其權重，以最佳化對輸出結果的影響。隨著訓練過程的進行，這些權重將被調整以適應所提供的數據集，使得模型能夠更好地理解和預測複雜的模式和關係。\\n\\n一些常見的深度學習技術包括卷積神經網路（CNN）、長短期記憶網路（LSTM）和生成對抗網路（GAN），它們已經成功應用於影像識別、自然語言處理、語音識別以及遊戲等各種領域。'}\n"
     ]
    }
   ],
   "source": [
    "from transformers import AutoModel, AutoTokenizer\n",
    "from transformers import GenerationConfig\n",
    "import torch\n",
    "from mtkresearch.llm.prompt import MRPromptV3\n",
    "import torch.distributed as dist\n",
    "\n",
    "model_id = 'MediaTek-Research/Llama-Breeze2-8B-Instruct-v0_1'\n",
    "model = AutoModel.from_pretrained(\n",
    "    model_id,\n",
    "    torch_dtype=torch.bfloat16,\n",
    "    low_cpu_mem_usage=True,\n",
    "    trust_remote_code=True,\n",
    "    device_map='auto',\n",
    "    img_context_token_id=128212\n",
    ").eval()\n",
    "\n",
    "tokenizer = AutoTokenizer.from_pretrained(model_id, trust_remote_code=True, use_fast=False)\n",
    "\n",
    "generation_config = GenerationConfig(\n",
    "  max_new_tokens=2048,\n",
    "  do_sample=True,\n",
    "  temperature=0.01,\n",
    "  top_p=0.01,\n",
    "  repetition_penalty=1.1,\n",
    "  eos_token_id=128009\n",
    ")\n",
    "\n",
    "prompt_engine = MRPromptV3()\n",
    "\n",
    "sys_prompt = 'You are a helpful AI assistant built by MediaTek Research. The user you are helping speaks Traditional Chinese and comes from Taiwan.'\n",
    "\n",
    "def _inference(tokenizer, model, generation_config, prompt, pixel_values=None):\n",
    "    inputs = tokenizer(prompt, return_tensors=\"pt\").to(model.device)\n",
    "    if pixel_values is None:\n",
    "        output_tensors = model.generate(**inputs, generation_config=generation_config)\n",
    "    else:\n",
    "        output_tensors = model.generate(**inputs, generation_config=generation_config, pixel_values=pixel_values.to(model.dtype))\n",
    "    output_str = tokenizer.decode(output_tensors[0])\n",
    "    return output_str\n",
    "\n",
    "conversations = [\n",
    "    {\"role\": \"system\", \"content\": sys_prompt},\n",
    "    {\"role\": \"user\", \"content\": \"請問什麼是深度學習？\"},\n",
    "]\n",
    "\n",
    "prompt = prompt_engine.get_prompt(conversations)\n",
    "output_str = _inference(tokenizer, model, generation_config, prompt)\n",
    "result = prompt_engine.parse_generated_str(output_str)\n",
    "print(result)\n",
    "# {'role': 'assistant', 'content': '深度學習是一種人工智慧技術，主要是透過模仿生物神經網路的結構和功能來實現。它利用大量數據進行訓練，以建立複雜的模型並使其能夠自主學習、預測或分類輸入資料。\\n\\n在深度學習中，通常使用多層的神經網路，每一層都包含許多相互連接的節點（稱為神經元）。這些神經元可以處理不同特徵的輸入資料，並將結果傳遞給下一層的神經元。隨著資料流向更高層次，這個過程逐漸捕捉到更抽象的概念或模式。\\n\\n深度學習已被廣泛應用於各種領域，如圖像識別、自然語言處理、語音識別以及遊戲等。它提供了比傳統機器學習方法更好的表現，因為它能夠從複雜且非線性的數據中提取出有用的資訊。'}\n"
   ]
  },
  {
   "cell_type": "code",
   "execution_count": null,
   "id": "bba81a29-4f74-4a21-9ced-a27e0fc8a02d",
   "metadata": {},
   "outputs": [],
   "source": []
  }
 ],
 "metadata": {
  "kernelspec": {
   "display_name": "Python 3 (ipykernel)",
   "language": "python",
   "name": "python3"
  },
  "language_info": {
   "codemirror_mode": {
    "name": "ipython",
    "version": 3
   },
   "file_extension": ".py",
   "mimetype": "text/x-python",
   "name": "python",
   "nbconvert_exporter": "python",
   "pygments_lexer": "ipython3",
   "version": "3.12.4"
  }
 },
 "nbformat": 4,
 "nbformat_minor": 5
}
